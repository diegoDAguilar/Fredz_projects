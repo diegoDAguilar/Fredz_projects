{
 "cells": [
  {
   "cell_type": "code",
   "execution_count": 52,
   "metadata": {},
   "outputs": [],
   "source": [
    "import pandas as pd\n",
    "import numpy as np\n",
    "import seaborn as sns\n",
    "import matplotlib.pyplot as plt"
   ]
  },
  {
   "cell_type": "code",
   "execution_count": 87,
   "metadata": {},
   "outputs": [],
   "source": [
    "child = pd.read_csv('children_per_woman_total_fertility.csv')\n",
    "paro = pd.read_csv('long_term_unemployment_rate_percent.csv')\n",
    "murder = pd.read_csv('murdered_women_per_100000_people.csv')\n",
    "pib = pd.read_csv('ny_gdp_mktp_pp_kd.csv')\n",
    "pop = pd.read_csv('population_total.csv')"
   ]
  },
  {
   "cell_type": "code",
   "execution_count": 88,
   "metadata": {},
   "outputs": [
    {
     "data": {
      "text/html": [
       "<div>\n",
       "<style scoped>\n",
       "    .dataframe tbody tr th:only-of-type {\n",
       "        vertical-align: middle;\n",
       "    }\n",
       "\n",
       "    .dataframe tbody tr th {\n",
       "        vertical-align: top;\n",
       "    }\n",
       "\n",
       "    .dataframe thead th {\n",
       "        text-align: right;\n",
       "    }\n",
       "</style>\n",
       "<table border=\"1\" class=\"dataframe\">\n",
       "  <thead>\n",
       "    <tr style=\"text-align: right;\">\n",
       "      <th></th>\n",
       "      <th>country</th>\n",
       "      <th>1800</th>\n",
       "      <th>1801</th>\n",
       "      <th>1802</th>\n",
       "      <th>1803</th>\n",
       "      <th>1804</th>\n",
       "      <th>1805</th>\n",
       "      <th>1806</th>\n",
       "      <th>1807</th>\n",
       "      <th>1808</th>\n",
       "      <th>...</th>\n",
       "      <th>2091</th>\n",
       "      <th>2092</th>\n",
       "      <th>2093</th>\n",
       "      <th>2094</th>\n",
       "      <th>2095</th>\n",
       "      <th>2096</th>\n",
       "      <th>2097</th>\n",
       "      <th>2098</th>\n",
       "      <th>2099</th>\n",
       "      <th>2100</th>\n",
       "    </tr>\n",
       "  </thead>\n",
       "  <tbody>\n",
       "    <tr>\n",
       "      <th>0</th>\n",
       "      <td>Afghanistan</td>\n",
       "      <td>7.00</td>\n",
       "      <td>7.00</td>\n",
       "      <td>7.00</td>\n",
       "      <td>7.00</td>\n",
       "      <td>7.00</td>\n",
       "      <td>7.00</td>\n",
       "      <td>7.00</td>\n",
       "      <td>7.00</td>\n",
       "      <td>7.00</td>\n",
       "      <td>...</td>\n",
       "      <td>1.74</td>\n",
       "      <td>1.74</td>\n",
       "      <td>1.74</td>\n",
       "      <td>1.74</td>\n",
       "      <td>1.74</td>\n",
       "      <td>1.74</td>\n",
       "      <td>1.74</td>\n",
       "      <td>1.74</td>\n",
       "      <td>1.74</td>\n",
       "      <td>1.74</td>\n",
       "    </tr>\n",
       "    <tr>\n",
       "      <th>1</th>\n",
       "      <td>Albania</td>\n",
       "      <td>4.60</td>\n",
       "      <td>4.60</td>\n",
       "      <td>4.60</td>\n",
       "      <td>4.60</td>\n",
       "      <td>4.60</td>\n",
       "      <td>4.60</td>\n",
       "      <td>4.60</td>\n",
       "      <td>4.60</td>\n",
       "      <td>4.60</td>\n",
       "      <td>...</td>\n",
       "      <td>1.78</td>\n",
       "      <td>1.78</td>\n",
       "      <td>1.78</td>\n",
       "      <td>1.79</td>\n",
       "      <td>1.79</td>\n",
       "      <td>1.79</td>\n",
       "      <td>1.79</td>\n",
       "      <td>1.79</td>\n",
       "      <td>1.79</td>\n",
       "      <td>1.79</td>\n",
       "    </tr>\n",
       "    <tr>\n",
       "      <th>2</th>\n",
       "      <td>Algeria</td>\n",
       "      <td>6.99</td>\n",
       "      <td>6.99</td>\n",
       "      <td>6.99</td>\n",
       "      <td>6.99</td>\n",
       "      <td>6.99</td>\n",
       "      <td>6.99</td>\n",
       "      <td>6.99</td>\n",
       "      <td>6.99</td>\n",
       "      <td>6.99</td>\n",
       "      <td>...</td>\n",
       "      <td>1.86</td>\n",
       "      <td>1.86</td>\n",
       "      <td>1.86</td>\n",
       "      <td>1.86</td>\n",
       "      <td>1.86</td>\n",
       "      <td>1.86</td>\n",
       "      <td>1.86</td>\n",
       "      <td>1.86</td>\n",
       "      <td>1.86</td>\n",
       "      <td>1.86</td>\n",
       "    </tr>\n",
       "    <tr>\n",
       "      <th>3</th>\n",
       "      <td>Angola</td>\n",
       "      <td>6.93</td>\n",
       "      <td>6.93</td>\n",
       "      <td>6.93</td>\n",
       "      <td>6.93</td>\n",
       "      <td>6.93</td>\n",
       "      <td>6.93</td>\n",
       "      <td>6.93</td>\n",
       "      <td>6.94</td>\n",
       "      <td>6.94</td>\n",
       "      <td>...</td>\n",
       "      <td>2.54</td>\n",
       "      <td>2.52</td>\n",
       "      <td>2.50</td>\n",
       "      <td>2.48</td>\n",
       "      <td>2.47</td>\n",
       "      <td>2.45</td>\n",
       "      <td>2.43</td>\n",
       "      <td>2.42</td>\n",
       "      <td>2.40</td>\n",
       "      <td>2.40</td>\n",
       "    </tr>\n",
       "    <tr>\n",
       "      <th>4</th>\n",
       "      <td>Antigua and Barbuda</td>\n",
       "      <td>5.00</td>\n",
       "      <td>5.00</td>\n",
       "      <td>4.99</td>\n",
       "      <td>4.99</td>\n",
       "      <td>4.99</td>\n",
       "      <td>4.98</td>\n",
       "      <td>4.98</td>\n",
       "      <td>4.97</td>\n",
       "      <td>4.97</td>\n",
       "      <td>...</td>\n",
       "      <td>1.81</td>\n",
       "      <td>1.81</td>\n",
       "      <td>1.81</td>\n",
       "      <td>1.81</td>\n",
       "      <td>1.81</td>\n",
       "      <td>1.81</td>\n",
       "      <td>1.81</td>\n",
       "      <td>1.82</td>\n",
       "      <td>1.82</td>\n",
       "      <td>1.82</td>\n",
       "    </tr>\n",
       "  </tbody>\n",
       "</table>\n",
       "<p>5 rows × 302 columns</p>\n",
       "</div>"
      ],
      "text/plain": [
       "               country  1800  1801  1802  1803  1804  1805  1806  1807  1808  \\\n",
       "0          Afghanistan  7.00  7.00  7.00  7.00  7.00  7.00  7.00  7.00  7.00   \n",
       "1              Albania  4.60  4.60  4.60  4.60  4.60  4.60  4.60  4.60  4.60   \n",
       "2              Algeria  6.99  6.99  6.99  6.99  6.99  6.99  6.99  6.99  6.99   \n",
       "3               Angola  6.93  6.93  6.93  6.93  6.93  6.93  6.93  6.94  6.94   \n",
       "4  Antigua and Barbuda  5.00  5.00  4.99  4.99  4.99  4.98  4.98  4.97  4.97   \n",
       "\n",
       "   ...  2091  2092  2093  2094  2095  2096  2097  2098  2099  2100  \n",
       "0  ...  1.74  1.74  1.74  1.74  1.74  1.74  1.74  1.74  1.74  1.74  \n",
       "1  ...  1.78  1.78  1.78  1.79  1.79  1.79  1.79  1.79  1.79  1.79  \n",
       "2  ...  1.86  1.86  1.86  1.86  1.86  1.86  1.86  1.86  1.86  1.86  \n",
       "3  ...  2.54  2.52  2.50  2.48  2.47  2.45  2.43  2.42  2.40  2.40  \n",
       "4  ...  1.81  1.81  1.81  1.81  1.81  1.81  1.81  1.82  1.82  1.82  \n",
       "\n",
       "[5 rows x 302 columns]"
      ]
     },
     "execution_count": 88,
     "metadata": {},
     "output_type": "execute_result"
    }
   ],
   "source": [
    "child.head(5)"
   ]
  },
  {
   "cell_type": "code",
   "execution_count": 89,
   "metadata": {},
   "outputs": [
    {
     "data": {
      "text/plain": [
       "Index(['1800', '1801', '1802', '1803', '1804', '1805', '1806', '1807', '1808',\n",
       "       '1809',\n",
       "       ...\n",
       "       '2091', '2092', '2093', '2094', '2095', '2096', '2097', '2098', '2099',\n",
       "       '2100'],\n",
       "      dtype='object', length=301)"
      ]
     },
     "execution_count": 89,
     "metadata": {},
     "output_type": "execute_result"
    }
   ],
   "source": [
    "child.columns[1:]"
   ]
  },
  {
   "cell_type": "code",
   "execution_count": 119,
   "metadata": {},
   "outputs": [],
   "source": [
    "child2 = pd.melt(child, id_vars=['country'], value_vars=child.columns[1:], \n",
    "                var_name='year', value_name='babies')"
   ]
  },
  {
   "cell_type": "code",
   "execution_count": 120,
   "metadata": {},
   "outputs": [],
   "source": [
    "child2['concat'] = child2['country'] + '+' + child2['year']"
   ]
  },
  {
   "cell_type": "code",
   "execution_count": 161,
   "metadata": {},
   "outputs": [
    {
     "data": {
      "image/png": "[encoded data removed]",
      "text/plain": [
       "<Figure size 720x360 with 1 Axes>"
      ]
     },
     "metadata": {
      "needs_background": "light"
     },
     "output_type": "display_data"
    }
   ],
   "source": [
    "plt.figure(figsize=(10,5))\n",
    "sns.heatmap(child2.isnull(), yticklabels = False, cmap = 'tab20c_r', cbar = False);"
   ]
  },
  {
   "cell_type": "code",
   "execution_count": 122,
   "metadata": {},
   "outputs": [
    {
     "data": {
      "text/html": [
       "<div>\n",
       "<style scoped>\n",
       "    .dataframe tbody tr th:only-of-type {\n",
       "        vertical-align: middle;\n",
       "    }\n",
       "\n",
       "    .dataframe tbody tr th {\n",
       "        vertical-align: top;\n",
       "    }\n",
       "\n",
       "    .dataframe thead th {\n",
       "        text-align: right;\n",
       "    }\n",
       "</style>\n",
       "<table border=\"1\" class=\"dataframe\">\n",
       "  <thead>\n",
       "    <tr style=\"text-align: right;\">\n",
       "      <th></th>\n",
       "      <th>country</th>\n",
       "      <th>1990</th>\n",
       "      <th>1991</th>\n",
       "      <th>1992</th>\n",
       "      <th>1993</th>\n",
       "      <th>1994</th>\n",
       "      <th>1995</th>\n",
       "      <th>1996</th>\n",
       "      <th>1997</th>\n",
       "      <th>1998</th>\n",
       "      <th>...</th>\n",
       "      <th>2008</th>\n",
       "      <th>2009</th>\n",
       "      <th>2010</th>\n",
       "      <th>2011</th>\n",
       "      <th>2012</th>\n",
       "      <th>2013</th>\n",
       "      <th>2014</th>\n",
       "      <th>2015</th>\n",
       "      <th>2016</th>\n",
       "      <th>2017</th>\n",
       "    </tr>\n",
       "  </thead>\n",
       "  <tbody>\n",
       "    <tr>\n",
       "      <th>0</th>\n",
       "      <td>Albania</td>\n",
       "      <td>NaN</td>\n",
       "      <td>NaN</td>\n",
       "      <td>NaN</td>\n",
       "      <td>NaN</td>\n",
       "      <td>NaN</td>\n",
       "      <td>NaN</td>\n",
       "      <td>NaN</td>\n",
       "      <td>NaN</td>\n",
       "      <td>NaN</td>\n",
       "      <td>...</td>\n",
       "      <td>0.0450</td>\n",
       "      <td>0.04910</td>\n",
       "      <td>0.05670</td>\n",
       "      <td>0.05280</td>\n",
       "      <td>0.05300</td>\n",
       "      <td>0.05530</td>\n",
       "      <td>0.05760</td>\n",
       "      <td>0.0609</td>\n",
       "      <td>NaN</td>\n",
       "      <td>NaN</td>\n",
       "    </tr>\n",
       "    <tr>\n",
       "      <th>1</th>\n",
       "      <td>Algeria</td>\n",
       "      <td>NaN</td>\n",
       "      <td>NaN</td>\n",
       "      <td>NaN</td>\n",
       "      <td>NaN</td>\n",
       "      <td>NaN</td>\n",
       "      <td>NaN</td>\n",
       "      <td>NaN</td>\n",
       "      <td>NaN</td>\n",
       "      <td>NaN</td>\n",
       "      <td>...</td>\n",
       "      <td>NaN</td>\n",
       "      <td>NaN</td>\n",
       "      <td>NaN</td>\n",
       "      <td>NaN</td>\n",
       "      <td>NaN</td>\n",
       "      <td>NaN</td>\n",
       "      <td>0.02150</td>\n",
       "      <td>NaN</td>\n",
       "      <td>NaN</td>\n",
       "      <td>NaN</td>\n",
       "    </tr>\n",
       "    <tr>\n",
       "      <th>2</th>\n",
       "      <td>Angola</td>\n",
       "      <td>NaN</td>\n",
       "      <td>NaN</td>\n",
       "      <td>NaN</td>\n",
       "      <td>NaN</td>\n",
       "      <td>NaN</td>\n",
       "      <td>NaN</td>\n",
       "      <td>NaN</td>\n",
       "      <td>NaN</td>\n",
       "      <td>NaN</td>\n",
       "      <td>...</td>\n",
       "      <td>NaN</td>\n",
       "      <td>NaN</td>\n",
       "      <td>NaN</td>\n",
       "      <td>0.01560</td>\n",
       "      <td>NaN</td>\n",
       "      <td>NaN</td>\n",
       "      <td>NaN</td>\n",
       "      <td>NaN</td>\n",
       "      <td>NaN</td>\n",
       "      <td>NaN</td>\n",
       "    </tr>\n",
       "    <tr>\n",
       "      <th>3</th>\n",
       "      <td>Argentina</td>\n",
       "      <td>NaN</td>\n",
       "      <td>NaN</td>\n",
       "      <td>NaN</td>\n",
       "      <td>NaN</td>\n",
       "      <td>NaN</td>\n",
       "      <td>NaN</td>\n",
       "      <td>NaN</td>\n",
       "      <td>NaN</td>\n",
       "      <td>NaN</td>\n",
       "      <td>...</td>\n",
       "      <td>0.0088</td>\n",
       "      <td>0.00925</td>\n",
       "      <td>0.00866</td>\n",
       "      <td>0.00783</td>\n",
       "      <td>0.00811</td>\n",
       "      <td>0.00798</td>\n",
       "      <td>0.00856</td>\n",
       "      <td>NaN</td>\n",
       "      <td>NaN</td>\n",
       "      <td>0.0114</td>\n",
       "    </tr>\n",
       "    <tr>\n",
       "      <th>4</th>\n",
       "      <td>Armenia</td>\n",
       "      <td>NaN</td>\n",
       "      <td>NaN</td>\n",
       "      <td>NaN</td>\n",
       "      <td>NaN</td>\n",
       "      <td>NaN</td>\n",
       "      <td>NaN</td>\n",
       "      <td>NaN</td>\n",
       "      <td>NaN</td>\n",
       "      <td>NaN</td>\n",
       "      <td>...</td>\n",
       "      <td>NaN</td>\n",
       "      <td>NaN</td>\n",
       "      <td>NaN</td>\n",
       "      <td>NaN</td>\n",
       "      <td>NaN</td>\n",
       "      <td>NaN</td>\n",
       "      <td>0.07150</td>\n",
       "      <td>0.0711</td>\n",
       "      <td>0.054</td>\n",
       "      <td>NaN</td>\n",
       "    </tr>\n",
       "  </tbody>\n",
       "</table>\n",
       "<p>5 rows × 29 columns</p>\n",
       "</div>"
      ],
      "text/plain": [
       "     country  1990  1991  1992  1993  1994  1995  1996  1997  1998  ...  \\\n",
       "0    Albania   NaN   NaN   NaN   NaN   NaN   NaN   NaN   NaN   NaN  ...   \n",
       "1    Algeria   NaN   NaN   NaN   NaN   NaN   NaN   NaN   NaN   NaN  ...   \n",
       "2     Angola   NaN   NaN   NaN   NaN   NaN   NaN   NaN   NaN   NaN  ...   \n",
       "3  Argentina   NaN   NaN   NaN   NaN   NaN   NaN   NaN   NaN   NaN  ...   \n",
       "4    Armenia   NaN   NaN   NaN   NaN   NaN   NaN   NaN   NaN   NaN  ...   \n",
       "\n",
       "     2008     2009     2010     2011     2012     2013     2014    2015  \\\n",
       "0  0.0450  0.04910  0.05670  0.05280  0.05300  0.05530  0.05760  0.0609   \n",
       "1     NaN      NaN      NaN      NaN      NaN      NaN  0.02150     NaN   \n",
       "2     NaN      NaN      NaN  0.01560      NaN      NaN      NaN     NaN   \n",
       "3  0.0088  0.00925  0.00866  0.00783  0.00811  0.00798  0.00856     NaN   \n",
       "4     NaN      NaN      NaN      NaN      NaN      NaN  0.07150  0.0711   \n",
       "\n",
       "    2016    2017  \n",
       "0    NaN     NaN  \n",
       "1    NaN     NaN  \n",
       "2    NaN     NaN  \n",
       "3    NaN  0.0114  \n",
       "4  0.054     NaN  \n",
       "\n",
       "[5 rows x 29 columns]"
      ]
     },
     "execution_count": 122,
     "metadata": {},
     "output_type": "execute_result"
    }
   ],
   "source": [
    "paro.head(5)"
   ]
  },
  {
   "cell_type": "code",
   "execution_count": 159,
   "metadata": {},
   "outputs": [
    {
     "data": {
      "image/png": "[encoded data removed]",
      "text/plain": [
       "<Figure size 720x360 with 1 Axes>"
      ]
     },
     "metadata": {
      "needs_background": "light"
     },
     "output_type": "display_data"
    }
   ],
   "source": [
    "plt.figure(figsize=(10,5))\n",
    "sns.heatmap(paro.isnull(), yticklabels = False, cmap = 'tab20c_r', cbar = False);"
   ]
  },
  {
   "cell_type": "code",
   "execution_count": 123,
   "metadata": {},
   "outputs": [],
   "source": [
    "paro2 = pd.melt(paro, id_vars=['country'], value_vars=paro.columns[1:], \n",
    "                var_name='year', value_name='paro')\n",
    "paro2['concat'] = paro2['country'] + '+' + paro2['year']"
   ]
  },
  {
   "cell_type": "code",
   "execution_count": 160,
   "metadata": {},
   "outputs": [
    {
     "data": {
      "image/png": "[encoded data removed]",
      "text/plain": [
       "<Figure size 720x360 with 1 Axes>"
      ]
     },
     "metadata": {
      "needs_background": "light"
     },
     "output_type": "display_data"
    }
   ],
   "source": [
    "plt.figure(figsize=(10,5))\n",
    "sns.heatmap(paro2.isnull(), yticklabels = False, cmap = 'tab20c_r', cbar = False);"
   ]
  },
  {
   "cell_type": "code",
   "execution_count": 125,
   "metadata": {},
   "outputs": [],
   "source": [
    "murder2 = pd.melt(murder, id_vars=['country'], value_vars=murder.columns[1:], \n",
    "                var_name='year', value_name='murder')\n",
    "murder2['concat'] = murder2['country'] + '+' + murder2['year']"
   ]
  },
  {
   "cell_type": "code",
   "execution_count": 126,
   "metadata": {},
   "outputs": [],
   "source": [
    "pib2 = pd.melt(pib, id_vars=['country'], value_vars=pib.columns[1:], \n",
    "                var_name='year', value_name='pib')\n",
    "pib2['concat'] = pib2['country'] + '+' + pib2['year']"
   ]
  },
  {
   "cell_type": "code",
   "execution_count": 127,
   "metadata": {},
   "outputs": [],
   "source": [
    "pop2 = pd.melt(pop, id_vars=['country'], value_vars=pop.columns[1:], \n",
    "                var_name='year', value_name='pop')\n",
    "pop2['concat'] = pop2['country'] + '+' + pop2['year']"
   ]
  },
  {
   "cell_type": "code",
   "execution_count": 128,
   "metadata": {},
   "outputs": [],
   "source": [
    "final = pd.merge(child2, pib2[['pib', 'concat']], on='concat', how='outer')\n",
    "final = pd.merge(final, paro2[['paro','concat']], on='concat', how='outer')\n",
    "final = pd.merge(final, pop2[['pop','concat']], on='concat', how='outer')\n",
    "final = pd.merge(final, murder2[['murder','concat']], on='concat', how='outer')"
   ]
  },
  {
   "cell_type": "code",
   "execution_count": 129,
   "metadata": {},
   "outputs": [],
   "source": [
    "final.drop(columns=['country','year'], inplace=True)"
   ]
  },
  {
   "cell_type": "code",
   "execution_count": 130,
   "metadata": {},
   "outputs": [],
   "source": [
    "final[['country','year']] = final['concat'].str.split('+', expand=True)"
   ]
  },
  {
   "cell_type": "code",
   "execution_count": 131,
   "metadata": {},
   "outputs": [],
   "source": [
    "final = final[['country','year','babies','pib','paro','pop','murder']]"
   ]
  },
  {
   "cell_type": "code",
   "execution_count": 134,
   "metadata": {},
   "outputs": [
    {
     "data": {
      "text/html": [
       "<div>\n",
       "<style scoped>\n",
       "    .dataframe tbody tr th:only-of-type {\n",
       "        vertical-align: middle;\n",
       "    }\n",
       "\n",
       "    .dataframe tbody tr th {\n",
       "        vertical-align: top;\n",
       "    }\n",
       "\n",
       "    .dataframe thead th {\n",
       "        text-align: right;\n",
       "    }\n",
       "</style>\n",
       "<table border=\"1\" class=\"dataframe\">\n",
       "  <thead>\n",
       "    <tr style=\"text-align: right;\">\n",
       "      <th></th>\n",
       "      <th>country</th>\n",
       "      <th>year</th>\n",
       "      <th>babies</th>\n",
       "      <th>pib</th>\n",
       "      <th>paro</th>\n",
       "      <th>pop</th>\n",
       "      <th>murder</th>\n",
       "    </tr>\n",
       "  </thead>\n",
       "  <tbody>\n",
       "    <tr>\n",
       "      <th>0</th>\n",
       "      <td>Afghanistan</td>\n",
       "      <td>1800</td>\n",
       "      <td>7.00</td>\n",
       "      <td>NaN</td>\n",
       "      <td>NaN</td>\n",
       "      <td>3280000</td>\n",
       "      <td>NaN</td>\n",
       "    </tr>\n",
       "    <tr>\n",
       "      <th>125</th>\n",
       "      <td>Palestine</td>\n",
       "      <td>1800</td>\n",
       "      <td>6.97</td>\n",
       "      <td>NaN</td>\n",
       "      <td>NaN</td>\n",
       "      <td>166000</td>\n",
       "      <td>NaN</td>\n",
       "    </tr>\n",
       "    <tr>\n",
       "      <th>126</th>\n",
       "      <td>Panama</td>\n",
       "      <td>1800</td>\n",
       "      <td>5.36</td>\n",
       "      <td>NaN</td>\n",
       "      <td>NaN</td>\n",
       "      <td>75600</td>\n",
       "      <td>NaN</td>\n",
       "    </tr>\n",
       "    <tr>\n",
       "      <th>127</th>\n",
       "      <td>Papua New Guinea</td>\n",
       "      <td>1800</td>\n",
       "      <td>6.23</td>\n",
       "      <td>NaN</td>\n",
       "      <td>NaN</td>\n",
       "      <td>755000</td>\n",
       "      <td>NaN</td>\n",
       "    </tr>\n",
       "    <tr>\n",
       "      <th>128</th>\n",
       "      <td>Paraguay</td>\n",
       "      <td>1800</td>\n",
       "      <td>6.49</td>\n",
       "      <td>NaN</td>\n",
       "      <td>NaN</td>\n",
       "      <td>300000</td>\n",
       "      <td>NaN</td>\n",
       "    </tr>\n",
       "    <tr>\n",
       "      <th>...</th>\n",
       "      <td>...</td>\n",
       "      <td>...</td>\n",
       "      <td>...</td>\n",
       "      <td>...</td>\n",
       "      <td>...</td>\n",
       "      <td>...</td>\n",
       "      <td>...</td>\n",
       "    </tr>\n",
       "    <tr>\n",
       "      <th>55263</th>\n",
       "      <td>Ghana</td>\n",
       "      <td>2100</td>\n",
       "      <td>2.00</td>\n",
       "      <td>NaN</td>\n",
       "      <td>NaN</td>\n",
       "      <td>79000000</td>\n",
       "      <td>NaN</td>\n",
       "    </tr>\n",
       "    <tr>\n",
       "      <th>55264</th>\n",
       "      <td>Greece</td>\n",
       "      <td>2100</td>\n",
       "      <td>1.77</td>\n",
       "      <td>NaN</td>\n",
       "      <td>NaN</td>\n",
       "      <td>6580000</td>\n",
       "      <td>NaN</td>\n",
       "    </tr>\n",
       "    <tr>\n",
       "      <th>55265</th>\n",
       "      <td>Grenada</td>\n",
       "      <td>2100</td>\n",
       "      <td>1.79</td>\n",
       "      <td>NaN</td>\n",
       "      <td>NaN</td>\n",
       "      <td>86200</td>\n",
       "      <td>NaN</td>\n",
       "    </tr>\n",
       "    <tr>\n",
       "      <th>55256</th>\n",
       "      <td>Fiji</td>\n",
       "      <td>2100</td>\n",
       "      <td>1.81</td>\n",
       "      <td>NaN</td>\n",
       "      <td>NaN</td>\n",
       "      <td>1070000</td>\n",
       "      <td>NaN</td>\n",
       "    </tr>\n",
       "    <tr>\n",
       "      <th>58694</th>\n",
       "      <td>Tuvalu</td>\n",
       "      <td>2100</td>\n",
       "      <td>NaN</td>\n",
       "      <td>NaN</td>\n",
       "      <td>NaN</td>\n",
       "      <td>20000</td>\n",
       "      <td>NaN</td>\n",
       "    </tr>\n",
       "  </tbody>\n",
       "</table>\n",
       "<p>58695 rows × 7 columns</p>\n",
       "</div>"
      ],
      "text/plain": [
       "                country  year  babies  pib  paro       pop  murder\n",
       "0           Afghanistan  1800    7.00  NaN   NaN   3280000     NaN\n",
       "125           Palestine  1800    6.97  NaN   NaN    166000     NaN\n",
       "126              Panama  1800    5.36  NaN   NaN     75600     NaN\n",
       "127    Papua New Guinea  1800    6.23  NaN   NaN    755000     NaN\n",
       "128            Paraguay  1800    6.49  NaN   NaN    300000     NaN\n",
       "...                 ...   ...     ...  ...   ...       ...     ...\n",
       "55263             Ghana  2100    2.00  NaN   NaN  79000000     NaN\n",
       "55264            Greece  2100    1.77  NaN   NaN   6580000     NaN\n",
       "55265           Grenada  2100    1.79  NaN   NaN     86200     NaN\n",
       "55256              Fiji  2100    1.81  NaN   NaN   1070000     NaN\n",
       "58694            Tuvalu  2100     NaN  NaN   NaN     20000     NaN\n",
       "\n",
       "[58695 rows x 7 columns]"
      ]
     },
     "execution_count": 134,
     "metadata": {},
     "output_type": "execute_result"
    }
   ],
   "source": [
    "final.sort_values(by='year', ascending=True)"
   ]
  },
  {
   "cell_type": "code",
   "execution_count": 210,
   "metadata": {},
   "outputs": [],
   "source": [
    "final['year'] = final['year'].astype('int64')"
   ]
  },
  {
   "cell_type": "code",
   "execution_count": 217,
   "metadata": {},
   "outputs": [],
   "source": [
    "final2 = pd.get_dummies(final)"
   ]
  },
  {
   "cell_type": "code",
   "execution_count": 219,
   "metadata": {},
   "outputs": [],
   "source": [
    "play = final2[(final2['year'] >=1950) & (final2['year'] <=2019)]"
   ]
  },
  {
   "cell_type": "code",
   "execution_count": 220,
   "metadata": {},
   "outputs": [
    {
     "data": {
      "text/plain": [
       "year                     0\n",
       "babies                 770\n",
       "pib                   8342\n",
       "paro                 12178\n",
       "pop                      0\n",
       "                     ...  \n",
       "country_Venezuela        0\n",
       "country_Vietnam          0\n",
       "country_Yemen            0\n",
       "country_Zambia           0\n",
       "country_Zimbabwe         0\n",
       "Length: 201, dtype: int64"
      ]
     },
     "execution_count": 220,
     "metadata": {},
     "output_type": "execute_result"
    }
   ],
   "source": [
    "play.isnull().sum()"
   ]
  },
  {
   "cell_type": "code",
   "execution_count": 221,
   "metadata": {},
   "outputs": [
    {
     "data": {
      "image/png": "[encoded data removed]",
      "text/plain": [
       "<Figure size 720x360 with 1 Axes>"
      ]
     },
     "metadata": {
      "needs_background": "light"
     },
     "output_type": "display_data"
    }
   ],
   "source": [
    "plt.figure(figsize=(10,5))\n",
    "sns.heatmap(play.isnull(), yticklabels = False, cmap = 'tab20c_r', cbar = False);"
   ]
  },
  {
   "cell_type": "code",
   "execution_count": 222,
   "metadata": {},
   "outputs": [],
   "source": [
    "play2 = play2.dropna()"
   ]
  },
  {
   "cell_type": "markdown",
   "metadata": {},
   "source": [
    "MODELO"
   ]
  },
  {
   "cell_type": "code",
   "execution_count": 223,
   "metadata": {},
   "outputs": [],
   "source": [
    "X = play2.drop(columns='murder', axis=1)"
   ]
  },
  {
   "cell_type": "code",
   "execution_count": 224,
   "metadata": {},
   "outputs": [
    {
     "data": {
      "text/plain": [
       "year                 0\n",
       "babies               0\n",
       "pib                  0\n",
       "paro                 0\n",
       "pop                  0\n",
       "                    ..\n",
       "country_Venezuela    0\n",
       "country_Vietnam      0\n",
       "country_Yemen        0\n",
       "country_Zambia       0\n",
       "country_Zimbabwe     0\n",
       "Length: 200, dtype: int64"
      ]
     },
     "execution_count": 224,
     "metadata": {},
     "output_type": "execute_result"
    }
   ],
   "source": [
    "X.isna().sum()"
   ]
  },
  {
   "cell_type": "code",
   "execution_count": 225,
   "metadata": {},
   "outputs": [],
   "source": [
    "y = play2['murder']"
   ]
  },
  {
   "cell_type": "code",
   "execution_count": 226,
   "metadata": {},
   "outputs": [],
   "source": [
    "from sklearn.model_selection import train_test_split\n",
    "\n",
    "X_train, X_test, y_train, y_test = train_test_split(X, y, test_size = 0.2, random_state=13)"
   ]
  },
  {
   "cell_type": "code",
   "execution_count": 227,
   "metadata": {},
   "outputs": [],
   "source": [
    "import xgboost"
   ]
  },
  {
   "cell_type": "code",
   "execution_count": 228,
   "metadata": {},
   "outputs": [
    {
     "name": "stdout",
     "output_type": "stream",
     "text": [
      "Validation MSE: 0.209409660624374\n"
     ]
    }
   ],
   "source": [
    "from sklearn.metrics import mean_squared_error\n",
    "\n",
    "xgb_reg = xgboost.XGBRegressor(random_state=13)\n",
    "xgb_reg.fit(X_train, y_train)\n",
    "y_pred = xgb_reg.predict(X_test)\n",
    "val_error = mean_squared_error(y_test, y_pred) # Not shown\n",
    "print(\"Validation MSE:\", val_error)"
   ]
  },
  {
   "cell_type": "markdown",
   "metadata": {},
   "source": [
    "Prediction Murder Australia 2005"
   ]
  },
  {
   "cell_type": "code",
   "execution_count": 238,
   "metadata": {},
   "outputs": [
    {
     "data": {
      "text/plain": [
       "Index(['year', 'babies', 'pib', 'paro', 'pop', 'murder', 'country_Afghanistan',\n",
       "       'country_Albania', 'country_Algeria', 'country_Andorra',\n",
       "       ...\n",
       "       'country_United Kingdom', 'country_United States', 'country_Uruguay',\n",
       "       'country_Uzbekistan', 'country_Vanuatu', 'country_Venezuela',\n",
       "       'country_Vietnam', 'country_Yemen', 'country_Zambia',\n",
       "       'country_Zimbabwe'],\n",
       "      dtype='object', length=201)"
      ]
     },
     "execution_count": 238,
     "metadata": {},
     "output_type": "execute_result"
    }
   ],
   "source": [
    "final2.columns"
   ]
  },
  {
   "cell_type": "code",
   "execution_count": 239,
   "metadata": {},
   "outputs": [],
   "source": [
    "to_guess = final2[(final2['country_Australia'] == 1) & (final2['year'] == 2005)]"
   ]
  },
  {
   "cell_type": "code",
   "execution_count": 240,
   "metadata": {},
   "outputs": [
    {
     "data": {
      "text/html": [
       "<div>\n",
       "<style scoped>\n",
       "    .dataframe tbody tr th:only-of-type {\n",
       "        vertical-align: middle;\n",
       "    }\n",
       "\n",
       "    .dataframe tbody tr th {\n",
       "        vertical-align: top;\n",
       "    }\n",
       "\n",
       "    .dataframe thead th {\n",
       "        text-align: right;\n",
       "    }\n",
       "</style>\n",
       "<table border=\"1\" class=\"dataframe\">\n",
       "  <thead>\n",
       "    <tr style=\"text-align: right;\">\n",
       "      <th></th>\n",
       "      <th>year</th>\n",
       "      <th>babies</th>\n",
       "      <th>pib</th>\n",
       "      <th>paro</th>\n",
       "      <th>pop</th>\n",
       "      <th>murder</th>\n",
       "      <th>country_Afghanistan</th>\n",
       "      <th>country_Albania</th>\n",
       "      <th>country_Algeria</th>\n",
       "      <th>country_Andorra</th>\n",
       "      <th>...</th>\n",
       "      <th>country_United Kingdom</th>\n",
       "      <th>country_United States</th>\n",
       "      <th>country_Uruguay</th>\n",
       "      <th>country_Uzbekistan</th>\n",
       "      <th>country_Vanuatu</th>\n",
       "      <th>country_Venezuela</th>\n",
       "      <th>country_Vietnam</th>\n",
       "      <th>country_Yemen</th>\n",
       "      <th>country_Zambia</th>\n",
       "      <th>country_Zimbabwe</th>\n",
       "    </tr>\n",
       "  </thead>\n",
       "  <tbody>\n",
       "    <tr>\n",
       "      <th>37727</th>\n",
       "      <td>2005</td>\n",
       "      <td>1.86</td>\n",
       "      <td>8.680000e+11</td>\n",
       "      <td>0.00792</td>\n",
       "      <td>20200000</td>\n",
       "      <td>NaN</td>\n",
       "      <td>0</td>\n",
       "      <td>0</td>\n",
       "      <td>0</td>\n",
       "      <td>0</td>\n",
       "      <td>...</td>\n",
       "      <td>0</td>\n",
       "      <td>0</td>\n",
       "      <td>0</td>\n",
       "      <td>0</td>\n",
       "      <td>0</td>\n",
       "      <td>0</td>\n",
       "      <td>0</td>\n",
       "      <td>0</td>\n",
       "      <td>0</td>\n",
       "      <td>0</td>\n",
       "    </tr>\n",
       "  </tbody>\n",
       "</table>\n",
       "<p>1 rows × 201 columns</p>\n",
       "</div>"
      ],
      "text/plain": [
       "       year  babies           pib     paro       pop  murder  \\\n",
       "37727  2005    1.86  8.680000e+11  0.00792  20200000     NaN   \n",
       "\n",
       "       country_Afghanistan  country_Albania  country_Algeria  country_Andorra  \\\n",
       "37727                    0                0                0                0   \n",
       "\n",
       "       ...  country_United Kingdom  country_United States  country_Uruguay  \\\n",
       "37727  ...                       0                      0                0   \n",
       "\n",
       "       country_Uzbekistan  country_Vanuatu  country_Venezuela  \\\n",
       "37727                   0                0                  0   \n",
       "\n",
       "       country_Vietnam  country_Yemen  country_Zambia  country_Zimbabwe  \n",
       "37727                0              0               0                 0  \n",
       "\n",
       "[1 rows x 201 columns]"
      ]
     },
     "execution_count": 240,
     "metadata": {},
     "output_type": "execute_result"
    }
   ],
   "source": [
    "to_guess"
   ]
  },
  {
   "cell_type": "code",
   "execution_count": 241,
   "metadata": {},
   "outputs": [],
   "source": [
    "to_guess_X = to_guess.drop(columns='murder', axis=1)"
   ]
  },
  {
   "cell_type": "code",
   "execution_count": 242,
   "metadata": {},
   "outputs": [
    {
     "data": {
      "text/html": [
       "<div>\n",
       "<style scoped>\n",
       "    .dataframe tbody tr th:only-of-type {\n",
       "        vertical-align: middle;\n",
       "    }\n",
       "\n",
       "    .dataframe tbody tr th {\n",
       "        vertical-align: top;\n",
       "    }\n",
       "\n",
       "    .dataframe thead th {\n",
       "        text-align: right;\n",
       "    }\n",
       "</style>\n",
       "<table border=\"1\" class=\"dataframe\">\n",
       "  <thead>\n",
       "    <tr style=\"text-align: right;\">\n",
       "      <th></th>\n",
       "      <th>year</th>\n",
       "      <th>babies</th>\n",
       "      <th>pib</th>\n",
       "      <th>paro</th>\n",
       "      <th>pop</th>\n",
       "      <th>country_Afghanistan</th>\n",
       "      <th>country_Albania</th>\n",
       "      <th>country_Algeria</th>\n",
       "      <th>country_Andorra</th>\n",
       "      <th>country_Angola</th>\n",
       "      <th>...</th>\n",
       "      <th>country_United Kingdom</th>\n",
       "      <th>country_United States</th>\n",
       "      <th>country_Uruguay</th>\n",
       "      <th>country_Uzbekistan</th>\n",
       "      <th>country_Vanuatu</th>\n",
       "      <th>country_Venezuela</th>\n",
       "      <th>country_Vietnam</th>\n",
       "      <th>country_Yemen</th>\n",
       "      <th>country_Zambia</th>\n",
       "      <th>country_Zimbabwe</th>\n",
       "    </tr>\n",
       "  </thead>\n",
       "  <tbody>\n",
       "    <tr>\n",
       "      <th>37727</th>\n",
       "      <td>2005</td>\n",
       "      <td>1.86</td>\n",
       "      <td>8.680000e+11</td>\n",
       "      <td>0.00792</td>\n",
       "      <td>20200000</td>\n",
       "      <td>0</td>\n",
       "      <td>0</td>\n",
       "      <td>0</td>\n",
       "      <td>0</td>\n",
       "      <td>0</td>\n",
       "      <td>...</td>\n",
       "      <td>0</td>\n",
       "      <td>0</td>\n",
       "      <td>0</td>\n",
       "      <td>0</td>\n",
       "      <td>0</td>\n",
       "      <td>0</td>\n",
       "      <td>0</td>\n",
       "      <td>0</td>\n",
       "      <td>0</td>\n",
       "      <td>0</td>\n",
       "    </tr>\n",
       "  </tbody>\n",
       "</table>\n",
       "<p>1 rows × 200 columns</p>\n",
       "</div>"
      ],
      "text/plain": [
       "       year  babies           pib     paro       pop  country_Afghanistan  \\\n",
       "37727  2005    1.86  8.680000e+11  0.00792  20200000                    0   \n",
       "\n",
       "       country_Albania  country_Algeria  country_Andorra  country_Angola  ...  \\\n",
       "37727                0                0                0               0  ...   \n",
       "\n",
       "       country_United Kingdom  country_United States  country_Uruguay  \\\n",
       "37727                       0                      0                0   \n",
       "\n",
       "       country_Uzbekistan  country_Vanuatu  country_Venezuela  \\\n",
       "37727                   0                0                  0   \n",
       "\n",
       "       country_Vietnam  country_Yemen  country_Zambia  country_Zimbabwe  \n",
       "37727                0              0               0                 0  \n",
       "\n",
       "[1 rows x 200 columns]"
      ]
     },
     "execution_count": 242,
     "metadata": {},
     "output_type": "execute_result"
    }
   ],
   "source": [
    "to_guess_X"
   ]
  },
  {
   "cell_type": "code",
   "execution_count": 243,
   "metadata": {},
   "outputs": [
    {
     "data": {
      "text/plain": [
       "array([0.8339089], dtype=float32)"
      ]
     },
     "execution_count": 243,
     "metadata": {},
     "output_type": "execute_result"
    }
   ],
   "source": [
    "xgb_reg.predict(to_guess_X)"
   ]
  }
 ],
 "metadata": {
  "kernelspec": {
   "display_name": "Python 3",
   "language": "python",
   "name": "python3"
  },
  "language_info": {
   "codemirror_mode": {
    "name": "ipython",
    "version": 3
   },
   "file_extension": ".py",
   "mimetype": "text/x-python",
   "name": "python",
   "nbconvert_exporter": "python",
   "pygments_lexer": "ipython3",
   "version": "3.8.3"
  },
  "varInspector": {
   "cols": {
    "lenName": 16,
    "lenType": 16,
    "lenVar": 40
   },
   "kernels_config": {
    "python": {
     "delete_cmd_postfix": "",
     "delete_cmd_prefix": "del ",
     "library": "var_list.py",
     "varRefreshCmd": "print(var_dic_list())"
    },
    "r": {
     "delete_cmd_postfix": ") ",
     "delete_cmd_prefix": "rm(",
     "library": "var_list.r",
     "varRefreshCmd": "cat(var_dic_list()) "
    }
   },
   "types_to_exclude": [
    "module",
    "function",
    "builtin_function_or_method",
    "instance",
    "_Feature"
   ],
   "window_display": false
  }
 },
 "nbformat": 4,
 "nbformat_minor": 4
}
