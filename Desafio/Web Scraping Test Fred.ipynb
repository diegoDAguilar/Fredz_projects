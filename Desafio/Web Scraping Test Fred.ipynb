{
 "cells": [
  {
   "cell_type": "code",
   "execution_count": 2,
   "metadata": {},
   "outputs": [],
   "source": [
    "from bs4 import BeautifulSoup\n",
    "from selenium import webdriver\n",
    "from selenium.webdriver.common.keys import Keys\n",
    "import os"
   ]
  },
  {
   "cell_type": "code",
   "execution_count": 5,
   "metadata": {},
   "outputs": [],
   "source": [
    "x = \"Nombre de la Empresa\""
   ]
  },
  {
   "cell_type": "code",
   "execution_count": 8,
   "metadata": {},
   "outputs": [],
   "source": [
    "from selenium import webdriver\n",
    "from selenium.webdriver.chrome.options import Options as ChromeOptions\n",
    "from selenium.webdriver.firefox.options import Options as FirefoxOptions\n",
    "\n",
    "# configure Chrome Webdriver\n",
    "def configure_chrome_driver():\n",
    "    # Add additional Options to the webdriver\n",
    "    chrome_options = ChromeOptions()\n",
    "    # add the argument and make the browser Headless.\n",
    "    chrome_options.add_argument(\"--headless\")\n",
    "    # Instantiate the Webdriver: Mention the executable path of the webdriver you have downloaded\n",
    "    # if driver is in PATH, no need to provide executable_path\n",
    "    driver = webdriver.Chrome(executable_path=\"./chromedriver.exe\", options = chrome_options)\n",
    "    return driver"
   ]
  },
  {
   "cell_type": "code",
   "execution_count": 12,
   "metadata": {},
   "outputs": [
    {
     "name": "stdout",
     "output_type": "stream",
     "text": [
      "{'title': 'Play by Play: Machine Learning Exposed', 'author': 'by Katharine Beaumont', 'level': 'Beginner', 'length': '2h 51m'}\n",
      "{'title': 'Designing Machine Learning Solutions on Microsoft Azure', 'author': 'by David Tucker', 'level': 'Intermediate', 'length': '1h 42m'}\n",
      "{'title': 'Building Your First scikit-learn Solution', 'author': 'by Janani Ravi', 'level': 'Beginner', 'length': '2h 7m'}\n",
      "{'title': 'Advanced Machine Learning with ENCOG - Part 2', 'author': 'by Abhishek Kumar', 'level': 'Advanced', 'length': '3h 41m'}\n",
      "{'title': 'Understanding Machine Learning', 'author': 'by David Chappell', 'level': 'Beginner', 'length': '43m'}\n",
      "{'title': 'Scalable Machine Learning with the Microsoft Machine Learning Server', 'author': 'by Shawn Hainsworth', 'level': 'Advanced', 'length': '2h 21m'}\n",
      "{'title': 'Understanding Machine Learning with Python', 'author': 'by Jerry Kurata', 'level': 'Beginner', 'length': '1h 53m'}\n",
      "{'title': 'Designing a Machine Learning Model', 'author': 'by Janani Ravi', 'level': 'Intermediate', 'length': '3h 24m'}\n",
      "{'title': 'Understanding Machine Learning with R', 'author': 'by Jerry Kurata', 'level': 'Beginner', 'length': '1h 24m'}\n",
      "{'title': 'How Machine Learning Works', 'author': 'by Paolo Perrotta', 'level': 'Beginner', 'length': '2h 22m'}\n",
      "{'title': 'Machine Learning: Executive Briefing', 'author': 'by Simon Allardice', 'level': 'Beginner', 'length': '39m'}\n",
      "{'title': 'Building Your First Machine Learning Solution', 'author': 'by Mohammed Osman', 'level': 'Beginner', 'length': '2h 40m'}\n",
      "{'title': 'How to Think About Machine Learning Algorithms', 'author': 'by Swetha Kolalapudi', 'level': 'Beginner', 'length': '3h 8m'}\n",
      "{'title': 'Build, Train, and Deploy Your First Neural Network with TensorFlow', 'author': 'by Jerry Kurata', 'level': 'Beginner', 'length': '2h 46m'}\n",
      "{'title': 'Data Wrangling with Python', 'author': 'by Pratheerth Padman', 'level': 'Intermediate', 'length': '1h 19m'}\n",
      "{'title': 'Understanding and Applying Linear Regression', 'author': 'by Vitthal Srinivasan', 'level': 'Beginner', 'length': '4h 12m'}\n",
      "{'title': 'Security Event Triage: Detecting Network Anomalies with Behavioral Analysis', 'author': 'by Aaron Rosenmund', 'level': 'Advanced', 'length': '2h '}\n",
      "{'title': 'Fundamentals of Machine Learning on AWS', 'author': 'by Amber Israelsen', 'level': 'Intermediate', 'length': '2h 18m'}\n",
      "{'title': 'Creating Machine Learning Models', 'author': 'by Janani Ravi', 'level': 'Intermediate', 'length': '2h 43m'}\n",
      "{'title': 'Deploying Machine Learning Solutions', 'author': 'by Janani Ravi', 'level': 'Advanced', 'length': '3h 5m'}\n",
      "{'title': 'Preparing Data for Machine Learning', 'author': 'by Janani Ravi', 'level': 'Beginner', 'length': '3h 23m'}\n",
      "{'title': 'Implementing an Azure Databricks Environment in Microsoft Azure', 'author': 'by Michael Bender', 'level': 'Beginner', 'length': '2h 5m'}\n",
      "{'title': 'What is Machine Learning?', 'author': 'by AWS', 'level': 'Beginner', 'length': '9m'}\n",
      "{'title': 'Machine Learning for Leaders', 'author': 'by AWS', 'level': 'Beginner', 'length': '10m'}\n",
      "{'title': 'Advanced Machine Learning with ENCOG', 'author': 'by Abhishek Kumar', 'level': 'Advanced', 'length': '4h 10m'}\n"
     ]
    }
   ],
   "source": [
    "from selenium.webdriver.support.ui import WebDriverWait\n",
    "from selenium.common.exceptions import TimeoutException\n",
    "from bs4 import BeautifulSoup\n",
    "\n",
    "driver = webdriver.Chrome(\"C:/Users/frede/DATA SCIENCES/ProjetsPerso/GitHub_PersoProjects/Fredz_projects/Desafio/chromedriver.exe\")\n",
    "\n",
    "def getCourses(driver, search_keyword):\n",
    "    # Step 1: Go to pluralsight.com\n",
    "    driver.get(f\"https://www.pluralsight.com/search?q={search_keyword}&categories=course\")\n",
    "    WebDriverWait(driver, 5).until(\n",
    "        lambda s: s.find_element_by_id(\"search-results-category-target\").is_displayed()\n",
    "    )\n",
    "    \n",
    "    # Load all the page data, by clicking Load More button again and again\n",
    "    # loadAllContent(driver) # Uncomment me for loading all the content of the page\n",
    "    \n",
    "    # Step 2: Create a parse tree of page sources after searching\n",
    "    soup = BeautifulSoup(driver.page_source, \"lxml\")\n",
    "    \n",
    "    # Step 3: Iterate over the search result and fetch the course\n",
    "    for course_page in soup.select(\"div.search-results-page\"):\n",
    "        for course in course_page.select(\"div.search-result\"):\n",
    "            # selectors for the required information\n",
    "            title_selector = \"div.search-result__info div.search-result__title a\"\n",
    "            author_selector = \"div.search-result__details div.search-result__author\"\n",
    "            level_selector = \"div.search-result__details div.search-result__level\"\n",
    "            length_selector = \"div.search-result__details div.search-result__length\"\n",
    "            print({\n",
    "                \"title\": course.select_one(title_selector).text,\n",
    "                \"author\": course.select_one(author_selector).text,\n",
    "                \"level\": course.select_one(level_selector).text,\n",
    "                \"length\": course.select_one(length_selector).text,\n",
    "            })\n",
    "            \n",
    "# Driver code\n",
    "# create the driver object.\n",
    "driver = configure_chrome_driver()\n",
    "search_keyword = \"Machine Learning\"\n",
    "getCourses(driver, search_keyword)\n",
    "# close the driver.\n",
    "driver.close()"
   ]
  },
  {
   "cell_type": "code",
   "execution_count": null,
   "metadata": {},
   "outputs": [],
   "source": []
  }
 ],
 "metadata": {
  "kernelspec": {
   "display_name": "Python 3",
   "language": "python",
   "name": "python3"
  },
  "language_info": {
   "codemirror_mode": {
    "name": "ipython",
    "version": 3
   },
   "file_extension": ".py",
   "mimetype": "text/x-python",
   "name": "python",
   "nbconvert_exporter": "python",
   "pygments_lexer": "ipython3",
   "version": "3.8.3"
  },
  "varInspector": {
   "cols": {
    "lenName": 16,
    "lenType": 16,
    "lenVar": 40
   },
   "kernels_config": {
    "python": {
     "delete_cmd_postfix": "",
     "delete_cmd_prefix": "del ",
     "library": "var_list.py",
     "varRefreshCmd": "print(var_dic_list())"
    },
    "r": {
     "delete_cmd_postfix": ") ",
     "delete_cmd_prefix": "rm(",
     "library": "var_list.r",
     "varRefreshCmd": "cat(var_dic_list()) "
    }
   },
   "types_to_exclude": [
    "module",
    "function",
    "builtin_function_or_method",
    "instance",
    "_Feature"
   ],
   "window_display": false
  }
 },
 "nbformat": 4,
 "nbformat_minor": 4
}
