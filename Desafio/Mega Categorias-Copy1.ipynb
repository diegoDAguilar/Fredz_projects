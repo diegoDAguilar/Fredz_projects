{
 "cells": [
  {
   "cell_type": "code",
   "execution_count": 1,
   "metadata": {},
   "outputs": [],
   "source": [
    "import pandas as pd\n",
    "import numpy as np\n",
    "import seaborn as sns\n",
    "import matplotlib.pyplot as plt"
   ]
  },
  {
   "cell_type": "code",
   "execution_count": 2,
   "metadata": {},
   "outputs": [],
   "source": [
    "import warnings\n",
    "warnings.filterwarnings(\"ignore\")"
   ]
  },
  {
   "cell_type": "code",
   "execution_count": 3,
   "metadata": {},
   "outputs": [],
   "source": [
    "hacendado = pd.read_csv('Products of the choosen Brand.csv')"
   ]
  },
  {
   "cell_type": "markdown",
   "metadata": {},
   "source": [
    "Limpieza de la columna de Categorias >> Toma en cuenta 'categories_hierarchy, '_keywords', 'pnns_groups_1'"
   ]
  },
  {
   "cell_type": "code",
   "execution_count": 6,
   "metadata": {},
   "outputs": [],
   "source": [
    "categories = hacendado[['categories_hierarchy', '_keywords', 'pnns_groups_1']]\n",
    "categories['categories_hierarchy'].fillna('[]', inplace=True)\n",
    "categories['categories_hierarchy'] = categories['categories_hierarchy'].apply(lambda x: x[1:-1].split(', '))\n",
    "categories['_keywords'] = categories['_keywords'].apply(lambda x: x[1:-1].split(', '))"
   ]
  },
  {
   "cell_type": "code",
   "execution_count": 7,
   "metadata": {},
   "outputs": [
    {
     "data": {
      "text/html": [
       "<div>\n",
       "<style scoped>\n",
       "    .dataframe tbody tr th:only-of-type {\n",
       "        vertical-align: middle;\n",
       "    }\n",
       "\n",
       "    .dataframe tbody tr th {\n",
       "        vertical-align: top;\n",
       "    }\n",
       "\n",
       "    .dataframe thead th {\n",
       "        text-align: right;\n",
       "    }\n",
       "</style>\n",
       "<table border=\"1\" class=\"dataframe\">\n",
       "  <thead>\n",
       "    <tr style=\"text-align: right;\">\n",
       "      <th></th>\n",
       "      <th>categories_hierarchy</th>\n",
       "      <th>_keywords</th>\n",
       "      <th>pnns_groups_1</th>\n",
       "    </tr>\n",
       "  </thead>\n",
       "  <tbody>\n",
       "    <tr>\n",
       "      <th>0</th>\n",
       "      <td>'en:meats'</td>\n",
       "      <td>['salchichon', 'hacendado', 'pavo', 'fiambre',...</td>\n",
       "      <td>Fish Meat Eggs</td>\n",
       "    </tr>\n",
       "    <tr>\n",
       "      <th>0</th>\n",
       "      <td>'en:prepared-meats'</td>\n",
       "      <td>['salchichon', 'hacendado', 'pavo', 'fiambre',...</td>\n",
       "      <td>Fish Meat Eggs</td>\n",
       "    </tr>\n",
       "    <tr>\n",
       "      <th>1</th>\n",
       "      <td>'en:beverages'</td>\n",
       "      <td>['sin', 'para', 'beber', 'producto', 'fermenta...</td>\n",
       "      <td>Milk and dairy products</td>\n",
       "    </tr>\n",
       "    <tr>\n",
       "      <th>1</th>\n",
       "      <td>'en:dairies'</td>\n",
       "      <td>['sin', 'para', 'beber', 'producto', 'fermenta...</td>\n",
       "      <td>Milk and dairy products</td>\n",
       "    </tr>\n",
       "    <tr>\n",
       "      <th>1</th>\n",
       "      <td>'en:fermented-foods'</td>\n",
       "      <td>['sin', 'para', 'beber', 'producto', 'fermenta...</td>\n",
       "      <td>Milk and dairy products</td>\n",
       "    </tr>\n",
       "    <tr>\n",
       "      <th>...</th>\n",
       "      <td>...</td>\n",
       "      <td>...</td>\n",
       "      <td>...</td>\n",
       "    </tr>\n",
       "    <tr>\n",
       "      <th>5034</th>\n",
       "      <td>'en:candies'</td>\n",
       "      <td>['golosina', 'preparado', 'concentrado', 'frut...</td>\n",
       "      <td>Sugary snacks</td>\n",
       "    </tr>\n",
       "    <tr>\n",
       "      <th>5035</th>\n",
       "      <td>'en:snacks'</td>\n",
       "      <td>['dulce', 'base', 'vegano', 'de', 'hacendado',...</td>\n",
       "      <td>Sugary snacks</td>\n",
       "    </tr>\n",
       "    <tr>\n",
       "      <th>5035</th>\n",
       "      <td>'en:sweet-snacks'</td>\n",
       "      <td>['dulce', 'base', 'vegano', 'de', 'hacendado',...</td>\n",
       "      <td>Sugary snacks</td>\n",
       "    </tr>\n",
       "    <tr>\n",
       "      <th>5035</th>\n",
       "      <td>'en:confectioneries'</td>\n",
       "      <td>['dulce', 'base', 'vegano', 'de', 'hacendado',...</td>\n",
       "      <td>Sugary snacks</td>\n",
       "    </tr>\n",
       "    <tr>\n",
       "      <th>5035</th>\n",
       "      <td>'en:candies'</td>\n",
       "      <td>['dulce', 'base', 'vegano', 'de', 'hacendado',...</td>\n",
       "      <td>Sugary snacks</td>\n",
       "    </tr>\n",
       "  </tbody>\n",
       "</table>\n",
       "<p>19984 rows × 3 columns</p>\n",
       "</div>"
      ],
      "text/plain": [
       "      categories_hierarchy                                          _keywords  \\\n",
       "0               'en:meats'  ['salchichon', 'hacendado', 'pavo', 'fiambre',...   \n",
       "0      'en:prepared-meats'  ['salchichon', 'hacendado', 'pavo', 'fiambre',...   \n",
       "1           'en:beverages'  ['sin', 'para', 'beber', 'producto', 'fermenta...   \n",
       "1             'en:dairies'  ['sin', 'para', 'beber', 'producto', 'fermenta...   \n",
       "1     'en:fermented-foods'  ['sin', 'para', 'beber', 'producto', 'fermenta...   \n",
       "...                    ...                                                ...   \n",
       "5034          'en:candies'  ['golosina', 'preparado', 'concentrado', 'frut...   \n",
       "5035           'en:snacks'  ['dulce', 'base', 'vegano', 'de', 'hacendado',...   \n",
       "5035     'en:sweet-snacks'  ['dulce', 'base', 'vegano', 'de', 'hacendado',...   \n",
       "5035  'en:confectioneries'  ['dulce', 'base', 'vegano', 'de', 'hacendado',...   \n",
       "5035          'en:candies'  ['dulce', 'base', 'vegano', 'de', 'hacendado',...   \n",
       "\n",
       "                pnns_groups_1  \n",
       "0              Fish Meat Eggs  \n",
       "0              Fish Meat Eggs  \n",
       "1     Milk and dairy products  \n",
       "1     Milk and dairy products  \n",
       "1     Milk and dairy products  \n",
       "...                       ...  \n",
       "5034            Sugary snacks  \n",
       "5035            Sugary snacks  \n",
       "5035            Sugary snacks  \n",
       "5035            Sugary snacks  \n",
       "5035            Sugary snacks  \n",
       "\n",
       "[19984 rows x 3 columns]"
      ]
     },
     "execution_count": 7,
     "metadata": {},
     "output_type": "execute_result"
    }
   ],
   "source": [
    "new_df = categories.explode('categories_hierarchy')\n",
    "new_df"
   ]
  },
  {
   "cell_type": "code",
   "execution_count": 8,
   "metadata": {},
   "outputs": [],
   "source": [
    "new_df[['language','content']] = new_df['categories_hierarchy'].str.split(':',expand=True)\n",
    "new_df['language'] = new_df['language'].str.replace(\"'\", \"\")\n",
    "new_df['content'] = new_df['content'].str.replace(\"'\",\"\")"
   ]
  },
  {
   "cell_type": "code",
   "execution_count": 9,
   "metadata": {},
   "outputs": [
    {
     "data": {
      "image/png": "[encoded data removed]",
      "text/plain": [
       "<Figure size 432x288 with 1 Axes>"
      ]
     },
     "metadata": {
      "needs_background": "light"
     },
     "output_type": "display_data"
    }
   ],
   "source": [
    "new_df['language'].value_counts().plot.bar();"
   ]
  },
  {
   "cell_type": "code",
   "execution_count": 10,
   "metadata": {},
   "outputs": [],
   "source": [
    "new_df = new_df.dropna()"
   ]
  },
  {
   "cell_type": "code",
   "execution_count": 11,
   "metadata": {},
   "outputs": [],
   "source": [
    "new_df[\"content\"] = new_df[\"content\"].str.lower()\n",
    "new_df['content'] = new_df['content'].str.replace(\"-\", \" \")"
   ]
  },
  {
   "cell_type": "code",
   "execution_count": 20,
   "metadata": {},
   "outputs": [],
   "source": [
    "keywords={'yogurts':'LACTEOS', 'milks':'LACTEOS', 'cream':'LACTEOS','cheeses':'LACTEOS','milk':'LACTEOS', 'cheese':'LACTEOS', \n",
    "          'meat':'CARNE','durum':'CARNE','steak':'CARNE','sausage':'CARNE','steaks':'CARNE','sausages':'CARNE',\n",
    "          'fish':'PESCADO','shrimp':'PESCADO','fishes':'PESCADO','shrimps':'PESCADO',\n",
    "          'beans':'LEGUMBRES','dried':'LEGUMBRES','seeds':'LEGUMBRES','peppers':'LEGUMBRES', 'nuts':'LEGUMBRES',\n",
    "          'vegetable':'HORTALIZAS','olives':'HORTALIZAS','soups':'HORTALIZAS','mushrooms':'HORTALIZAS',\n",
    "          'fruit':'FRUTAS','fruits':'FRUTAS','apple':'FRUTAS', 'orange':'FRUTAS','banana':'FRUTAS',\n",
    "          'wheat':'CEREALES','rices':'CEREALES','cereal':'CEREALES','cakes':'CEREALES', 'rice':'CEREALES',\n",
    "          'breads':'CEREALES', 'biscuits':'CEREALES','corn':'CEREALES','pasta':'CEREALES',\n",
    "          'chocolate':'LIPIDOS', 'chocolates':'LIPIDOS', 'turron':'LIPIDOS', 'chuches':'LIPIDOS',\n",
    "          'beer':'ALCOHOL','wine':'ALCOHOL','whiskey':'ALCOHOL', 'tomato':'HORTALIZAS','asparagus':'HORTALIZAS',\n",
    "          'carrots':'HORTALIZAS', 'legumes':'HORTALIZAS', 'chickpeas':'LEGUMBRES','sardines':'PESCADO', 'ham':'CARNE',\n",
    "          'butters':'LIPIDOS','lentils':'LEGUMBRES','chicken':'CARNE', 'sweet':'LIPIDOS','lemon':'FRUTAS', \n",
    "          'vanilla':'LACTEOS', 'crisps':'CEREALES', 'pork':'CARNE', 'jams':'LIPIDOS', 'almonds':'LEGUMBRES', \n",
    "          'artichokes':'HORTALIZAS','onions':'HORTALIZAS', 'egg':'CARNE', 'eggs':'CARNE','sugar':'LIPIDOS', 'syrups':'LIPIDOS', \n",
    "          'berries':'FRUTAS','fillets':'CARNE','spinachs':'HORTALIZAS','honeys':'LIPIDOS','tunas':'PESCADO', 'oil':'LIPIDOS',\n",
    "         'dairy':'LACTEOS', 'dairies':'LACTEOS', 'salad':'HORTALIZAS', 'salads':'HORTALIZAS', 'sheep':'CARNE', 'seeds':'LEGUMBRES',\n",
    "         'sunflower':'LEGUMBRES', 'pumpkin':'HORTALIZAS','popcorn':'LEGUMBRES', 'mint':'HORTALIZAS', 'creams':'LACTEOS',\n",
    "         'pineapples':'FRUTAS','nectars':'FRUTAS','pates':'CEREALES', 'alcoholic':'ALCOHOL', 'peaches':'FRUTAS', 'lettuces':'HORTALIZAS',\n",
    "         'cherries':'FRUTAS', 'aceite':'LIPIDOS','beverages':'BEBIDAS', 'coffee':'BEBIDAS', 'tea':'BEBIDAS', 'teas':'BEBIDAS',\n",
    "         'coffees':'BEBIDAS', 'drinks':'BEBIDAS', 'drink':'BEBIDAS', 'bee':'LIPIDOS', 'bakery':'CEREALES', 'bonito':'PESCADO', \n",
    "         'broccoli':'HORTALIZAS'}"
   ]
  },
  {
   "cell_type": "code",
   "execution_count": 21,
   "metadata": {},
   "outputs": [],
   "source": [
    "cat_index=[]\n",
    "cat=[]\n",
    "mega_cat=[]\n",
    "for i in range(len(new_df)):\n",
    "    label = new_df['content'].iloc[i]\n",
    "    for j,k in keywords.items():\n",
    "            if j in label:\n",
    "                cat_index.append(i)\n",
    "                cat.append(label)\n",
    "                mega_cat.append(k)"
   ]
  },
  {
   "cell_type": "code",
   "execution_count": 22,
   "metadata": {},
   "outputs": [],
   "source": [
    "df = pd.DataFrame(zip(cat_index, cat, mega_cat), columns=['cat_ID','off cat','mega_cat'])"
   ]
  },
  {
   "cell_type": "code",
   "execution_count": 23,
   "metadata": {},
   "outputs": [
    {
     "data": {
      "text/html": [
       "<div>\n",
       "<style scoped>\n",
       "    .dataframe tbody tr th:only-of-type {\n",
       "        vertical-align: middle;\n",
       "    }\n",
       "\n",
       "    .dataframe tbody tr th {\n",
       "        vertical-align: top;\n",
       "    }\n",
       "\n",
       "    .dataframe thead th {\n",
       "        text-align: right;\n",
       "    }\n",
       "</style>\n",
       "<table border=\"1\" class=\"dataframe\">\n",
       "  <thead>\n",
       "    <tr style=\"text-align: right;\">\n",
       "      <th></th>\n",
       "      <th>cat_ID</th>\n",
       "      <th>off cat</th>\n",
       "      <th>mega_cat</th>\n",
       "    </tr>\n",
       "  </thead>\n",
       "  <tbody>\n",
       "    <tr>\n",
       "      <th>0</th>\n",
       "      <td>0</td>\n",
       "      <td>meats</td>\n",
       "      <td>CARNE</td>\n",
       "    </tr>\n",
       "    <tr>\n",
       "      <th>1</th>\n",
       "      <td>1</td>\n",
       "      <td>prepared meats</td>\n",
       "      <td>CARNE</td>\n",
       "    </tr>\n",
       "    <tr>\n",
       "      <th>2</th>\n",
       "      <td>2</td>\n",
       "      <td>beverages</td>\n",
       "      <td>BEBIDAS</td>\n",
       "    </tr>\n",
       "    <tr>\n",
       "      <th>3</th>\n",
       "      <td>3</td>\n",
       "      <td>dairies</td>\n",
       "      <td>LACTEOS</td>\n",
       "    </tr>\n",
       "    <tr>\n",
       "      <th>4</th>\n",
       "      <td>5</td>\n",
       "      <td>fermented milk products</td>\n",
       "      <td>LACTEOS</td>\n",
       "    </tr>\n",
       "    <tr>\n",
       "      <th>...</th>\n",
       "      <td>...</td>\n",
       "      <td>...</td>\n",
       "      <td>...</td>\n",
       "    </tr>\n",
       "    <tr>\n",
       "      <th>16230</th>\n",
       "      <td>18198</td>\n",
       "      <td>non dairy desserts</td>\n",
       "      <td>LACTEOS</td>\n",
       "    </tr>\n",
       "    <tr>\n",
       "      <th>16231</th>\n",
       "      <td>18199</td>\n",
       "      <td>chocolate desserts</td>\n",
       "      <td>LIPIDOS</td>\n",
       "    </tr>\n",
       "    <tr>\n",
       "      <th>16232</th>\n",
       "      <td>18201</td>\n",
       "      <td>chocolate soy desserts</td>\n",
       "      <td>LIPIDOS</td>\n",
       "    </tr>\n",
       "    <tr>\n",
       "      <th>16233</th>\n",
       "      <td>18203</td>\n",
       "      <td>sweet snacks</td>\n",
       "      <td>LIPIDOS</td>\n",
       "    </tr>\n",
       "    <tr>\n",
       "      <th>16234</th>\n",
       "      <td>18207</td>\n",
       "      <td>sweet snacks</td>\n",
       "      <td>LIPIDOS</td>\n",
       "    </tr>\n",
       "  </tbody>\n",
       "</table>\n",
       "<p>13114 rows × 3 columns</p>\n",
       "</div>"
      ],
      "text/plain": [
       "       cat_ID                  off cat mega_cat\n",
       "0           0                    meats    CARNE\n",
       "1           1           prepared meats    CARNE\n",
       "2           2                beverages  BEBIDAS\n",
       "3           3                  dairies  LACTEOS\n",
       "4           5  fermented milk products  LACTEOS\n",
       "...       ...                      ...      ...\n",
       "16230   18198       non dairy desserts  LACTEOS\n",
       "16231   18199       chocolate desserts  LIPIDOS\n",
       "16232   18201   chocolate soy desserts  LIPIDOS\n",
       "16233   18203             sweet snacks  LIPIDOS\n",
       "16234   18207             sweet snacks  LIPIDOS\n",
       "\n",
       "[13114 rows x 3 columns]"
      ]
     },
     "execution_count": 23,
     "metadata": {},
     "output_type": "execute_result"
    }
   ],
   "source": [
    "df.drop_duplicates()"
   ]
  },
  {
   "cell_type": "code",
   "execution_count": 24,
   "metadata": {},
   "outputs": [
    {
     "data": {
      "text/html": [
       "<div>\n",
       "<style scoped>\n",
       "    .dataframe tbody tr th:only-of-type {\n",
       "        vertical-align: middle;\n",
       "    }\n",
       "\n",
       "    .dataframe tbody tr th {\n",
       "        vertical-align: top;\n",
       "    }\n",
       "\n",
       "    .dataframe thead th {\n",
       "        text-align: right;\n",
       "    }\n",
       "</style>\n",
       "<table border=\"1\" class=\"dataframe\">\n",
       "  <thead>\n",
       "    <tr style=\"text-align: right;\">\n",
       "      <th></th>\n",
       "      <th>categories_hierarchy</th>\n",
       "      <th>_keywords</th>\n",
       "      <th>pnns_groups_1</th>\n",
       "      <th>language</th>\n",
       "      <th>content</th>\n",
       "      <th>cat_ID</th>\n",
       "      <th>off cat</th>\n",
       "      <th>mega_cat</th>\n",
       "    </tr>\n",
       "  </thead>\n",
       "  <tbody>\n",
       "    <tr>\n",
       "      <th>0</th>\n",
       "      <td>'en:meats'</td>\n",
       "      <td>['salchichon', 'hacendado', 'pavo', 'fiambre',...</td>\n",
       "      <td>Fish Meat Eggs</td>\n",
       "      <td>en</td>\n",
       "      <td>meats</td>\n",
       "      <td>0.0</td>\n",
       "      <td>meats</td>\n",
       "      <td>CARNE</td>\n",
       "    </tr>\n",
       "    <tr>\n",
       "      <th>1</th>\n",
       "      <td>'en:meats'</td>\n",
       "      <td>['salchichon', 'hacendado', 'pavo', 'fiambre',...</td>\n",
       "      <td>Fish Meat Eggs</td>\n",
       "      <td>en</td>\n",
       "      <td>meats</td>\n",
       "      <td>59.0</td>\n",
       "      <td>meats</td>\n",
       "      <td>CARNE</td>\n",
       "    </tr>\n",
       "    <tr>\n",
       "      <th>2</th>\n",
       "      <td>'en:meats'</td>\n",
       "      <td>['salchichon', 'hacendado', 'pavo', 'fiambre',...</td>\n",
       "      <td>Fish Meat Eggs</td>\n",
       "      <td>en</td>\n",
       "      <td>meats</td>\n",
       "      <td>295.0</td>\n",
       "      <td>meats</td>\n",
       "      <td>CARNE</td>\n",
       "    </tr>\n",
       "    <tr>\n",
       "      <th>3</th>\n",
       "      <td>'en:meats'</td>\n",
       "      <td>['salchichon', 'hacendado', 'pavo', 'fiambre',...</td>\n",
       "      <td>Fish Meat Eggs</td>\n",
       "      <td>en</td>\n",
       "      <td>meats</td>\n",
       "      <td>303.0</td>\n",
       "      <td>meats</td>\n",
       "      <td>CARNE</td>\n",
       "    </tr>\n",
       "    <tr>\n",
       "      <th>4</th>\n",
       "      <td>'en:meats'</td>\n",
       "      <td>['salchichon', 'hacendado', 'pavo', 'fiambre',...</td>\n",
       "      <td>Fish Meat Eggs</td>\n",
       "      <td>en</td>\n",
       "      <td>meats</td>\n",
       "      <td>311.0</td>\n",
       "      <td>meats</td>\n",
       "      <td>CARNE</td>\n",
       "    </tr>\n",
       "    <tr>\n",
       "      <th>...</th>\n",
       "      <td>...</td>\n",
       "      <td>...</td>\n",
       "      <td>...</td>\n",
       "      <td>...</td>\n",
       "      <td>...</td>\n",
       "      <td>...</td>\n",
       "      <td>...</td>\n",
       "      <td>...</td>\n",
       "    </tr>\n",
       "    <tr>\n",
       "      <th>3578950</th>\n",
       "      <td>'en:puffed-wholegrain-rice-cakes'</td>\n",
       "      <td>['integral', 'vegetal', 'vegano', 'tortita', '...</td>\n",
       "      <td>Cereals and potatoes</td>\n",
       "      <td>en</td>\n",
       "      <td>puffed wholegrain rice cakes</td>\n",
       "      <td>18002.0</td>\n",
       "      <td>puffed wholegrain rice cakes</td>\n",
       "      <td>CEREALES</td>\n",
       "    </tr>\n",
       "    <tr>\n",
       "      <th>3578951</th>\n",
       "      <td>'en:puffed-wholegrain-rice-cakes'</td>\n",
       "      <td>['integral', 'vegetal', 'vegano', 'tortita', '...</td>\n",
       "      <td>Cereals and potatoes</td>\n",
       "      <td>en</td>\n",
       "      <td>puffed wholegrain rice cakes</td>\n",
       "      <td>18002.0</td>\n",
       "      <td>puffed wholegrain rice cakes</td>\n",
       "      <td>CEREALES</td>\n",
       "    </tr>\n",
       "    <tr>\n",
       "      <th>3578952</th>\n",
       "      <td>'en:baby-milks'</td>\n",
       "      <td>['bebe', 'hacendado', 'crecimiento', 'leche', ...</td>\n",
       "      <td>unknown</td>\n",
       "      <td>en</td>\n",
       "      <td>baby milks</td>\n",
       "      <td>18058.0</td>\n",
       "      <td>baby milks</td>\n",
       "      <td>LACTEOS</td>\n",
       "    </tr>\n",
       "    <tr>\n",
       "      <th>3578953</th>\n",
       "      <td>'en:baby-milks'</td>\n",
       "      <td>['bebe', 'hacendado', 'crecimiento', 'leche', ...</td>\n",
       "      <td>unknown</td>\n",
       "      <td>en</td>\n",
       "      <td>baby milks</td>\n",
       "      <td>18058.0</td>\n",
       "      <td>baby milks</td>\n",
       "      <td>LACTEOS</td>\n",
       "    </tr>\n",
       "    <tr>\n",
       "      <th>3578954</th>\n",
       "      <td>'en:alexandrian-senna'</td>\n",
       "      <td>['senna', 'frangula', 'sen', 'para', 'vegetal'...</td>\n",
       "      <td>unknown</td>\n",
       "      <td>en</td>\n",
       "      <td>alexandrian senna</td>\n",
       "      <td>NaN</td>\n",
       "      <td>NaN</td>\n",
       "      <td>NaN</td>\n",
       "    </tr>\n",
       "  </tbody>\n",
       "</table>\n",
       "<p>3578955 rows × 8 columns</p>\n",
       "</div>"
      ],
      "text/plain": [
       "                      categories_hierarchy  \\\n",
       "0                               'en:meats'   \n",
       "1                               'en:meats'   \n",
       "2                               'en:meats'   \n",
       "3                               'en:meats'   \n",
       "4                               'en:meats'   \n",
       "...                                    ...   \n",
       "3578950  'en:puffed-wholegrain-rice-cakes'   \n",
       "3578951  'en:puffed-wholegrain-rice-cakes'   \n",
       "3578952                    'en:baby-milks'   \n",
       "3578953                    'en:baby-milks'   \n",
       "3578954             'en:alexandrian-senna'   \n",
       "\n",
       "                                                 _keywords  \\\n",
       "0        ['salchichon', 'hacendado', 'pavo', 'fiambre',...   \n",
       "1        ['salchichon', 'hacendado', 'pavo', 'fiambre',...   \n",
       "2        ['salchichon', 'hacendado', 'pavo', 'fiambre',...   \n",
       "3        ['salchichon', 'hacendado', 'pavo', 'fiambre',...   \n",
       "4        ['salchichon', 'hacendado', 'pavo', 'fiambre',...   \n",
       "...                                                    ...   \n",
       "3578950  ['integral', 'vegetal', 'vegano', 'tortita', '...   \n",
       "3578951  ['integral', 'vegetal', 'vegano', 'tortita', '...   \n",
       "3578952  ['bebe', 'hacendado', 'crecimiento', 'leche', ...   \n",
       "3578953  ['bebe', 'hacendado', 'crecimiento', 'leche', ...   \n",
       "3578954  ['senna', 'frangula', 'sen', 'para', 'vegetal'...   \n",
       "\n",
       "                pnns_groups_1 language                       content   cat_ID  \\\n",
       "0              Fish Meat Eggs       en                         meats      0.0   \n",
       "1              Fish Meat Eggs       en                         meats     59.0   \n",
       "2              Fish Meat Eggs       en                         meats    295.0   \n",
       "3              Fish Meat Eggs       en                         meats    303.0   \n",
       "4              Fish Meat Eggs       en                         meats    311.0   \n",
       "...                       ...      ...                           ...      ...   \n",
       "3578950  Cereals and potatoes       en  puffed wholegrain rice cakes  18002.0   \n",
       "3578951  Cereals and potatoes       en  puffed wholegrain rice cakes  18002.0   \n",
       "3578952               unknown       en                    baby milks  18058.0   \n",
       "3578953               unknown       en                    baby milks  18058.0   \n",
       "3578954               unknown       en             alexandrian senna      NaN   \n",
       "\n",
       "                              off cat  mega_cat  \n",
       "0                               meats     CARNE  \n",
       "1                               meats     CARNE  \n",
       "2                               meats     CARNE  \n",
       "3                               meats     CARNE  \n",
       "4                               meats     CARNE  \n",
       "...                               ...       ...  \n",
       "3578950  puffed wholegrain rice cakes  CEREALES  \n",
       "3578951  puffed wholegrain rice cakes  CEREALES  \n",
       "3578952                    baby milks   LACTEOS  \n",
       "3578953                    baby milks   LACTEOS  \n",
       "3578954                           NaN       NaN  \n",
       "\n",
       "[3578955 rows x 8 columns]"
      ]
     },
     "execution_count": 24,
     "metadata": {},
     "output_type": "execute_result"
    }
   ],
   "source": [
    "merge = pd.merge(new_df, df, left_on='content', right_on='off cat', how='outer')\n",
    "merge"
   ]
  },
  {
   "cell_type": "code",
   "execution_count": 25,
   "metadata": {},
   "outputs": [],
   "source": [
    "final = merge[['categories_hierarchy', 'mega_cat', 'pnns_groups_1', 'language', 'content']].drop_duplicates()"
   ]
  },
  {
   "cell_type": "code",
   "execution_count": 26,
   "metadata": {},
   "outputs": [
    {
     "data": {
      "text/plain": [
       "<matplotlib.axes._subplots.AxesSubplot at 0x1faaf1a5eb0>"
      ]
     },
     "execution_count": 26,
     "metadata": {},
     "output_type": "execute_result"
    },
    {
     "data": {
      "image/png": "[encoded data removed]",
      "text/plain": [
       "<Figure size 432x288 with 1 Axes>"
      ]
     },
     "metadata": {
      "needs_background": "light"
     },
     "output_type": "display_data"
    }
   ],
   "source": [
    "sns.scatterplot(y=final['pnns_groups_1'], x=final['mega_cat'])"
   ]
  },
  {
   "cell_type": "code",
   "execution_count": 28,
   "metadata": {},
   "outputs": [
    {
     "data": {
      "image/png": "[encoded data removed]",
      "text/plain": [
       "<Figure size 432x288 with 1 Axes>"
      ]
     },
     "metadata": {
      "needs_background": "light"
     },
     "output_type": "display_data"
    }
   ],
   "source": [
    "final['mega_cat'].value_counts().plot.bar();"
   ]
  },
  {
   "cell_type": "markdown",
   "metadata": {},
   "source": [
    "_keyword column"
   ]
  },
  {
   "cell_type": "code",
   "execution_count": 30,
   "metadata": {},
   "outputs": [
    {
     "data": {
      "text/html": [
       "<div>\n",
       "<style scoped>\n",
       "    .dataframe tbody tr th:only-of-type {\n",
       "        vertical-align: middle;\n",
       "    }\n",
       "\n",
       "    .dataframe tbody tr th {\n",
       "        vertical-align: top;\n",
       "    }\n",
       "\n",
       "    .dataframe thead th {\n",
       "        text-align: right;\n",
       "    }\n",
       "</style>\n",
       "<table border=\"1\" class=\"dataframe\">\n",
       "  <thead>\n",
       "    <tr style=\"text-align: right;\">\n",
       "      <th></th>\n",
       "      <th>_keywords</th>\n",
       "    </tr>\n",
       "  </thead>\n",
       "  <tbody>\n",
       "    <tr>\n",
       "      <th>0</th>\n",
       "      <td>'salchichon'  'hacendado'  'pavo'  'fiambre'  ...</td>\n",
       "    </tr>\n",
       "    <tr>\n",
       "      <th>1</th>\n",
       "      <td>'sin'  'para'  'beber'  'producto'  'fermentad...</td>\n",
       "    </tr>\n",
       "    <tr>\n",
       "      <th>2</th>\n",
       "      <td>'crangejo'  'gluten'  'hacendado'  'de'  'ensa...</td>\n",
       "    </tr>\n",
       "    <tr>\n",
       "      <th>3</th>\n",
       "      <td>'vegano'  'mondada'  'fruto'  'vegetariano'  '...</td>\n",
       "    </tr>\n",
       "    <tr>\n",
       "      <th>4</th>\n",
       "      <td>'beverage'  'and'  'hacendado'  'de'  'oliva' ...</td>\n",
       "    </tr>\n",
       "    <tr>\n",
       "      <th>...</th>\n",
       "      <td>...</td>\n",
       "    </tr>\n",
       "    <tr>\n",
       "      <th>4695</th>\n",
       "      <td>'gluten-free'  'hacendado'  'camaiot'  'loncha'</td>\n",
       "    </tr>\n",
       "    <tr>\n",
       "      <th>4696</th>\n",
       "      <td>'hacendado'  'maiz'  'dulce'</td>\n",
       "    </tr>\n",
       "    <tr>\n",
       "      <th>4697</th>\n",
       "      <td>'sin'  'chocolate'  'gluten'  'lactosa'  'vege...</td>\n",
       "    </tr>\n",
       "    <tr>\n",
       "      <th>4698</th>\n",
       "      <td>'golosina'  'preparado'  'concentrado'  'fruta...</td>\n",
       "    </tr>\n",
       "    <tr>\n",
       "      <th>4699</th>\n",
       "      <td>'dulce'  'base'  'vegano'  'de'  'hacendado'  ...</td>\n",
       "    </tr>\n",
       "  </tbody>\n",
       "</table>\n",
       "<p>4700 rows × 1 columns</p>\n",
       "</div>"
      ],
      "text/plain": [
       "                                              _keywords\n",
       "0     'salchichon'  'hacendado'  'pavo'  'fiambre'  ...\n",
       "1     'sin'  'para'  'beber'  'producto'  'fermentad...\n",
       "2     'crangejo'  'gluten'  'hacendado'  'de'  'ensa...\n",
       "3     'vegano'  'mondada'  'fruto'  'vegetariano'  '...\n",
       "4     'beverage'  'and'  'hacendado'  'de'  'oliva' ...\n",
       "...                                                 ...\n",
       "4695    'gluten-free'  'hacendado'  'camaiot'  'loncha'\n",
       "4696                       'hacendado'  'maiz'  'dulce'\n",
       "4697  'sin'  'chocolate'  'gluten'  'lactosa'  'vege...\n",
       "4698  'golosina'  'preparado'  'concentrado'  'fruta...\n",
       "4699  'dulce'  'base'  'vegano'  'de'  'hacendado'  ...\n",
       "\n",
       "[4700 rows x 1 columns]"
      ]
     },
     "execution_count": 30,
     "metadata": {},
     "output_type": "execute_result"
    }
   ],
   "source": [
    "motscles = hacendado[['_keywords']]\n",
    "motscles['_keywords'].fillna('[]', inplace=True)\n",
    "motscles['_keywords'] = motscles['_keywords'].apply(lambda x: x[1:-1].split(', '))\n",
    "motscles = hacendado.explode('_keywords')\n",
    "motscles = motscles[['_keywords']].drop_duplicates()\n",
    "motscles.reset_index(inplace=True)\n",
    "motscles.drop(columns='index', inplace=True)\n",
    "motscles['_keywords'] = motscles['_keywords'].str.replace(\"[\",\"\")\n",
    "motscles['_keywords'] = motscles['_keywords'].str.replace(\"]\",\"\")\n",
    "motscles['_keywords'] = motscles['_keywords'].str.replace(\",\",\" \")\n",
    "motscles"
   ]
  },
  {
   "cell_type": "code",
   "execution_count": null,
   "metadata": {},
   "outputs": [],
   "source": [
    "motscles['_keywords'].str.split(expand=True).stack().value_counts().head(60)"
   ]
  },
  {
   "cell_type": "code",
   "execution_count": null,
   "metadata": {},
   "outputs": [],
   "source": [
    "motscles['_keywords'].str.split(expand=True).stack().unique()"
   ]
  },
  {
   "cell_type": "code",
   "execution_count": null,
   "metadata": {},
   "outputs": [],
   "source": [
    "lista=[]\n",
    "for word in motscles['_keywords'].str.split(expand=True).stack().unique():\n",
    "    if len(word) >= 7:\n",
    "        lista.append(word)"
   ]
  },
  {
   "cell_type": "code",
   "execution_count": null,
   "metadata": {},
   "outputs": [],
   "source": [
    "sorted(lista)"
   ]
  },
  {
   "cell_type": "markdown",
   "metadata": {},
   "source": [
    "PNNS Groups"
   ]
  },
  {
   "cell_type": "code",
   "execution_count": null,
   "metadata": {},
   "outputs": [],
   "source": [
    "hacendado['pnns_groups_1'].value_counts().plot.bar();"
   ]
  },
  {
   "cell_type": "code",
   "execution_count": null,
   "metadata": {},
   "outputs": [],
   "source": [
    "hacendado['pnns_groups_1'].head(60)"
   ]
  },
  {
   "cell_type": "markdown",
   "metadata": {},
   "source": [
    "Let's check on Product's level"
   ]
  },
  {
   "cell_type": "code",
   "execution_count": null,
   "metadata": {},
   "outputs": [],
   "source": [
    "hacendado['categories_hierarchy'].fillna('[]', inplace=True)\n",
    "hacendado['categories_hierarchy'] = hacendado['categories_hierarchy'].apply(lambda x: x[1:-1].split(', '))"
   ]
  },
  {
   "cell_type": "code",
   "execution_count": null,
   "metadata": {},
   "outputs": [],
   "source": [
    "for i in range(len(hacendado)) :\n",
    "    for word in hacendado['categories_hierarchy'].iloc[i]:\n",
    "        if word in final['categories_hierarchy']:\n",
    "            print(word)"
   ]
  },
  {
   "cell_type": "markdown",
   "metadata": {},
   "source": [
    "A nivel de Productos"
   ]
  },
  {
   "cell_type": "code",
   "execution_count": null,
   "metadata": {},
   "outputs": [],
   "source": [
    "hacendado['categories_hierarchy'].fillna('[]', inplace=True)\n",
    "hacendado['categories_hierarchy'] = hacendado['categories_hierarchy'].apply(lambda x: x[1:-1].split(', '))"
   ]
  },
  {
   "cell_type": "code",
   "execution_count": null,
   "metadata": {},
   "outputs": [],
   "source": [
    "def last_cat(x):\n",
    "    return x[-1]\n",
    "\n",
    "hacendado['last_cat'] = hacendado['categories_hierarchy'].apply(last_cat)"
   ]
  },
  {
   "cell_type": "code",
   "execution_count": null,
   "metadata": {},
   "outputs": [],
   "source": []
  }
 ],
 "metadata": {
  "kernelspec": {
   "display_name": "Python 3",
   "language": "python",
   "name": "python3"
  },
  "language_info": {
   "codemirror_mode": {
    "name": "ipython",
    "version": 3
   },
   "file_extension": ".py",
   "mimetype": "text/x-python",
   "name": "python",
   "nbconvert_exporter": "python",
   "pygments_lexer": "ipython3",
   "version": "3.8.3"
  },
  "varInspector": {
   "cols": {
    "lenName": 16,
    "lenType": 16,
    "lenVar": 40
   },
   "kernels_config": {
    "python": {
     "delete_cmd_postfix": "",
     "delete_cmd_prefix": "del ",
     "library": "var_list.py",
     "varRefreshCmd": "print(var_dic_list())"
    },
    "r": {
     "delete_cmd_postfix": ") ",
     "delete_cmd_prefix": "rm(",
     "library": "var_list.r",
     "varRefreshCmd": "cat(var_dic_list()) "
    }
   },
   "types_to_exclude": [
    "module",
    "function",
    "builtin_function_or_method",
    "instance",
    "_Feature"
   ],
   "window_display": false
  }
 },
 "nbformat": 4,
 "nbformat_minor": 4
}
