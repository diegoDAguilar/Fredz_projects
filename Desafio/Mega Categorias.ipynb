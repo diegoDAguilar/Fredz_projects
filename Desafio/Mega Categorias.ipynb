{
 "cells": [
  {
   "cell_type": "code",
   "execution_count": 1,
   "metadata": {},
   "outputs": [],
   "source": [
    "import pandas as pd\n",
    "import numpy as np\n",
    "import seaborn as sns\n",
    "import matplotlib.pyplot as plt"
   ]
  },
  {
   "cell_type": "code",
   "execution_count": 2,
   "metadata": {},
   "outputs": [
    {
     "name": "stderr",
     "output_type": "stream",
     "text": [
      "C:\\Users\\frede\\anaconda3\\lib\\site-packages\\IPython\\core\\interactiveshell.py:3071: DtypeWarning: Columns (23,26,30,31,49,50,52,63,66,67,69,89,92,95,98,103,116,117,118,141,142,143,144,145,147,152,153,154,155,156,157,158,159,160,161,162,163,164,165,166,167,168,169,170,171,172,173,174,175,176,177,179,182,183,184,185,186,187,188,189,190,191,192,193,194,195,196,197,198,199,200,201,202,203,204,205,206,207,208,209,210,211,212,213,214,215,216,217,218,219,220,221,222,223,224,225,226,227,228,229,230,231,232,233,234,235,236,237,238,239,240,241,242,243,244,245,246,247,248,249,250,251,252,253,254,255,256,257,258,259,260,261,262,263,264,265,266,267,268,269,270,271,272,273,274,275,276,277,278,279,280,281,282,283,284,285,286,287,288,289,290,291,292,293,294,295,296,297,298,299,300,301,302,303,304,305,306,307,308,309,310,311,312,313,314,315,316,317,318,319,320,321,322,323,324,325,326,327,328,329,330,331,332,333,334,335,336,337,338,339,340,341,342,343,344,345,346,347,348,349,350,351,352,353,354,355,356,357,358,359,360,361,362,363,364,365,366,367,368,369,370,371,372,373,374,375,376,377,378,379,380,381,382,383,384,385,386,387,388,389,390,391,392,393,394,395,396,397,398,399,400,401,402,403,404,405,406,407,408,409,410,411,412,413,414,415,416,417,418,419,420,421,422,423,424,425,426,427,428,429,430,431,432,433,434,435,436,437,438,439,440,441,442,443,444,445,446,447,448,449,450,451,452,453,454,455,456,457,458,459,460,461,462,463,464,465,466,467,468,469,470,471,472,473,474,475,476,477,478,479,480,481,482,483,484,485,486,487,488,489,490,491,492,493,494,495,496,497,498,499,500,501,502,503,504,505,506,507,508,509,510,511,512,513,514,515,516,517,518,519,520,521,522,523,524,525,526,527,528,529,530,531,532,533,534,535,536,537,538,539,540,541,542,543,544,545,546,547,548,549,550,551,552,553,554,555,556,557,558,559,560,561,562,563,564,565,566,567,568,569,570,571,572,573,574,575,576,577,578,579,580,581,582,583,584,585,586,587,588,589,590,591,592,593,594,595,596,597,598,599,600,601,602,603,604,605,606,607,608,609,610,611,612,613,614,615,616,617,618,619,620,621,622,623,624,625,626,627,628,629,630,631,632,633,634,635,636,637,638,639,640,641,642,643,644,645,646,647,648,649,650,651,652,653,654,655,656,657,658,659,660,661,662,663,664,665,666,667,668,669,670,671,672,673,674,675,676,677,678,679,680,681,682,683,684,685,686,687,688,689,690,691,692,693,694,695,696,697,698,699,700,701,702,703,704,705,706,707,708,709,710,711,712,713,714,715,716,717,718,719,720,721,722,723,724,725,726,727,728,729,730,731,732,733,734,735,736,737,738,739,740,741,742,743,744,745,746,747,748,749,750,751,752,753,754,755,756,757,758,759,760,761,762,763,764,765,766,767,768,769,770,771,772,773,774,775,776,777,778,779,780,781,782,783,786,787,788,789,790,791,792,793,794,795,796,797,798,799,800,801,802,803,804,805,806,807,808,809,810,811,813,816,819,820,822,826,829,837,856,884,885,888,905,915,921,923,924,935,938,939,941,946,952,955,970,977,978) have mixed types.Specify dtype option on import or set low_memory=False.\n",
      "  has_raised = await self.run_ast_nodes(code_ast.body, cell_name,\n"
     ]
    }
   ],
   "source": [
    "hacendado = pd.read_csv('Products of the choosen Brand.csv')"
   ]
  },
  {
   "cell_type": "markdown",
   "metadata": {},
   "source": [
    "Limpieza de la columna de Categorias"
   ]
  },
  {
   "cell_type": "code",
   "execution_count": 8,
   "metadata": {},
   "outputs": [
    {
     "name": "stderr",
     "output_type": "stream",
     "text": [
      "<ipython-input-8-1ba517f96099>:3: SettingWithCopyWarning: \n",
      "A value is trying to be set on a copy of a slice from a DataFrame.\n",
      "Try using .loc[row_indexer,col_indexer] = value instead\n",
      "\n",
      "See the caveats in the documentation: https://pandas.pydata.org/pandas-docs/stable/user_guide/indexing.html#returning-a-view-versus-a-copy\n",
      "  categories['categories_hierarchy'] = categories['categories_hierarchy'].apply(lambda x: x[1:-1].split(', '))\n"
     ]
    },
    {
     "data": {
      "text/html": [
       "<div>\n",
       "<style scoped>\n",
       "    .dataframe tbody tr th:only-of-type {\n",
       "        vertical-align: middle;\n",
       "    }\n",
       "\n",
       "    .dataframe tbody tr th {\n",
       "        vertical-align: top;\n",
       "    }\n",
       "\n",
       "    .dataframe thead th {\n",
       "        text-align: right;\n",
       "    }\n",
       "</style>\n",
       "<table border=\"1\" class=\"dataframe\">\n",
       "  <thead>\n",
       "    <tr style=\"text-align: right;\">\n",
       "      <th></th>\n",
       "      <th>categories_hierarchy</th>\n",
       "    </tr>\n",
       "  </thead>\n",
       "  <tbody>\n",
       "    <tr>\n",
       "      <th>0</th>\n",
       "      <td>'en:meats'</td>\n",
       "    </tr>\n",
       "    <tr>\n",
       "      <th>1</th>\n",
       "      <td>'en:prepared-meats'</td>\n",
       "    </tr>\n",
       "    <tr>\n",
       "      <th>2</th>\n",
       "      <td>'en:beverages'</td>\n",
       "    </tr>\n",
       "    <tr>\n",
       "      <th>3</th>\n",
       "      <td>'en:dairies'</td>\n",
       "    </tr>\n",
       "    <tr>\n",
       "      <th>4</th>\n",
       "      <td>'en:fermented-foods'</td>\n",
       "    </tr>\n",
       "    <tr>\n",
       "      <th>...</th>\n",
       "      <td>...</td>\n",
       "    </tr>\n",
       "    <tr>\n",
       "      <th>1295</th>\n",
       "      <td>'en:egg-free-mayonnaises'</td>\n",
       "    </tr>\n",
       "    <tr>\n",
       "      <th>1296</th>\n",
       "      <td>'en:frozen-broccoli-florets'</td>\n",
       "    </tr>\n",
       "    <tr>\n",
       "      <th>1297</th>\n",
       "      <td>'en:puffed-wholegrain-rice-cakes'</td>\n",
       "    </tr>\n",
       "    <tr>\n",
       "      <th>1298</th>\n",
       "      <td>'en:baby-milks'</td>\n",
       "    </tr>\n",
       "    <tr>\n",
       "      <th>1299</th>\n",
       "      <td>'en:alexandrian-senna'</td>\n",
       "    </tr>\n",
       "  </tbody>\n",
       "</table>\n",
       "<p>1300 rows × 1 columns</p>\n",
       "</div>"
      ],
      "text/plain": [
       "                   categories_hierarchy\n",
       "0                            'en:meats'\n",
       "1                   'en:prepared-meats'\n",
       "2                        'en:beverages'\n",
       "3                          'en:dairies'\n",
       "4                  'en:fermented-foods'\n",
       "...                                 ...\n",
       "1295          'en:egg-free-mayonnaises'\n",
       "1296       'en:frozen-broccoli-florets'\n",
       "1297  'en:puffed-wholegrain-rice-cakes'\n",
       "1298                    'en:baby-milks'\n",
       "1299             'en:alexandrian-senna'\n",
       "\n",
       "[1300 rows x 1 columns]"
      ]
     },
     "execution_count": 8,
     "metadata": {},
     "output_type": "execute_result"
    }
   ],
   "source": [
    "categories = hacendado[['categories_hierarchy']]\n",
    "categories['categories_hierarchy'].fillna('[]', inplace=True)\n",
    "categories['categories_hierarchy'] = categories['categories_hierarchy'].apply(lambda x: x[1:-1].split(', '))\n",
    "categories = categories.explode('categories_hierarchy')\n",
    "categories = categories[['categories_hierarchy']].drop_duplicates()\n",
    "categories.reset_index(inplace=True)\n",
    "categories.drop(columns='index', inplace=True)\n",
    "categories"
   ]
  },
  {
   "cell_type": "code",
   "execution_count": 9,
   "metadata": {},
   "outputs": [],
   "source": [
    "categories[['language','content']] = categories['categories_hierarchy'].str.split(':',expand=True)\n",
    "categories['language'] = categories['language'].str.replace(\"'\", \"\")\n",
    "categories['content'] = categories['content'].str.replace(\"'\",\"\")"
   ]
  },
  {
   "cell_type": "code",
   "execution_count": 10,
   "metadata": {},
   "outputs": [
    {
     "data": {
      "image/png": "[encoded data removed]",
      "text/plain": [
       "<Figure size 432x288 with 1 Axes>"
      ]
     },
     "metadata": {
      "needs_background": "light"
     },
     "output_type": "display_data"
    }
   ],
   "source": [
    "categories['language'].value_counts().plot.bar();"
   ]
  },
  {
   "cell_type": "code",
   "execution_count": 12,
   "metadata": {},
   "outputs": [
    {
     "data": {
      "text/plain": [
       "en    1253\n",
       "es      27\n",
       "fr      19\n",
       "         1\n",
       "Name: language, dtype: int64"
      ]
     },
     "execution_count": 12,
     "metadata": {},
     "output_type": "execute_result"
    }
   ],
   "source": [
    "categories['language'].value_counts()"
   ]
  },
  {
   "cell_type": "code",
   "execution_count": 11,
   "metadata": {},
   "outputs": [
    {
     "data": {
      "text/html": [
       "<div>\n",
       "<style scoped>\n",
       "    .dataframe tbody tr th:only-of-type {\n",
       "        vertical-align: middle;\n",
       "    }\n",
       "\n",
       "    .dataframe tbody tr th {\n",
       "        vertical-align: top;\n",
       "    }\n",
       "\n",
       "    .dataframe thead th {\n",
       "        text-align: right;\n",
       "    }\n",
       "</style>\n",
       "<table border=\"1\" class=\"dataframe\">\n",
       "  <thead>\n",
       "    <tr style=\"text-align: right;\">\n",
       "      <th></th>\n",
       "      <th>categories_hierarchy</th>\n",
       "      <th>language</th>\n",
       "      <th>content</th>\n",
       "    </tr>\n",
       "  </thead>\n",
       "  <tbody>\n",
       "    <tr>\n",
       "      <th>1020</th>\n",
       "      <td>'es:Bonito del Norte en aceite de oliva'</td>\n",
       "      <td>es</td>\n",
       "      <td>Bonito del Norte en aceite de oliva</td>\n",
       "    </tr>\n",
       "    <tr>\n",
       "      <th>777</th>\n",
       "      <td>'es:Cereales-desayuno'</td>\n",
       "      <td>es</td>\n",
       "      <td>Cereales-desayuno</td>\n",
       "    </tr>\n",
       "    <tr>\n",
       "      <th>632</th>\n",
       "      <td>'en:Fruit-jams'</td>\n",
       "      <td>en</td>\n",
       "      <td>Fruit-jams</td>\n",
       "    </tr>\n",
       "    <tr>\n",
       "      <th>418</th>\n",
       "      <td>'en:advent-calendars'</td>\n",
       "      <td>en</td>\n",
       "      <td>advent-calendars</td>\n",
       "    </tr>\n",
       "    <tr>\n",
       "      <th>758</th>\n",
       "      <td>'en:agar-agar'</td>\n",
       "      <td>en</td>\n",
       "      <td>agar-agar</td>\n",
       "    </tr>\n",
       "    <tr>\n",
       "      <th>...</th>\n",
       "      <td>...</td>\n",
       "      <td>...</td>\n",
       "      <td>...</td>\n",
       "    </tr>\n",
       "    <tr>\n",
       "      <th>10</th>\n",
       "      <td>'en:yogurts'</td>\n",
       "      <td>en</td>\n",
       "      <td>yogurts</td>\n",
       "    </tr>\n",
       "    <tr>\n",
       "      <th>769</th>\n",
       "      <td>'en:yogurts-with-cereals'</td>\n",
       "      <td>en</td>\n",
       "      <td>yogurts-with-cereals</td>\n",
       "    </tr>\n",
       "    <tr>\n",
       "      <th>1229</th>\n",
       "      <td>'en:zucchini'</td>\n",
       "      <td>en</td>\n",
       "      <td>zucchini</td>\n",
       "    </tr>\n",
       "    <tr>\n",
       "      <th>306</th>\n",
       "      <td>'en:zwieback'</td>\n",
       "      <td>en</td>\n",
       "      <td>zwieback</td>\n",
       "    </tr>\n",
       "    <tr>\n",
       "      <th>238</th>\n",
       "      <td></td>\n",
       "      <td></td>\n",
       "      <td>None</td>\n",
       "    </tr>\n",
       "  </tbody>\n",
       "</table>\n",
       "<p>1300 rows × 3 columns</p>\n",
       "</div>"
      ],
      "text/plain": [
       "                          categories_hierarchy language  \\\n",
       "1020  'es:Bonito del Norte en aceite de oliva'       es   \n",
       "777                     'es:Cereales-desayuno'       es   \n",
       "632                            'en:Fruit-jams'       en   \n",
       "418                      'en:advent-calendars'       en   \n",
       "758                             'en:agar-agar'       en   \n",
       "...                                        ...      ...   \n",
       "10                                'en:yogurts'       en   \n",
       "769                  'en:yogurts-with-cereals'       en   \n",
       "1229                             'en:zucchini'       en   \n",
       "306                              'en:zwieback'       en   \n",
       "238                                                       \n",
       "\n",
       "                                  content  \n",
       "1020  Bonito del Norte en aceite de oliva  \n",
       "777                     Cereales-desayuno  \n",
       "632                            Fruit-jams  \n",
       "418                      advent-calendars  \n",
       "758                             agar-agar  \n",
       "...                                   ...  \n",
       "10                                yogurts  \n",
       "769                  yogurts-with-cereals  \n",
       "1229                             zucchini  \n",
       "306                              zwieback  \n",
       "238                                  None  \n",
       "\n",
       "[1300 rows x 3 columns]"
      ]
     },
     "execution_count": 11,
     "metadata": {},
     "output_type": "execute_result"
    }
   ],
   "source": [
    "categories.sort_values(by='content', ascending=True)"
   ]
  },
  {
   "cell_type": "code",
   "execution_count": 35,
   "metadata": {},
   "outputs": [],
   "source": [
    "categories = categories.dropna()"
   ]
  },
  {
   "cell_type": "code",
   "execution_count": 36,
   "metadata": {},
   "outputs": [
    {
     "name": "stderr",
     "output_type": "stream",
     "text": [
      "<ipython-input-36-34f1eee0c81c>:1: SettingWithCopyWarning: \n",
      "A value is trying to be set on a copy of a slice from a DataFrame.\n",
      "Try using .loc[row_indexer,col_indexer] = value instead\n",
      "\n",
      "See the caveats in the documentation: https://pandas.pydata.org/pandas-docs/stable/user_guide/indexing.html#returning-a-view-versus-a-copy\n",
      "  categories[\"content\"] = categories[\"content\"].str.lower()\n",
      "<ipython-input-36-34f1eee0c81c>:2: SettingWithCopyWarning: \n",
      "A value is trying to be set on a copy of a slice from a DataFrame.\n",
      "Try using .loc[row_indexer,col_indexer] = value instead\n",
      "\n",
      "See the caveats in the documentation: https://pandas.pydata.org/pandas-docs/stable/user_guide/indexing.html#returning-a-view-versus-a-copy\n",
      "  categories['content'] = categories['content'].str.replace(\"-\", \" \")\n"
     ]
    }
   ],
   "source": [
    "categories[\"content\"] = categories[\"content\"].str.lower()\n",
    "categories['content'] = categories['content'].str.replace(\"-\", \" \")"
   ]
  },
  {
   "cell_type": "code",
   "execution_count": 37,
   "metadata": {},
   "outputs": [
    {
     "name": "stderr",
     "output_type": "stream",
     "text": [
      "<ipython-input-37-7cd0fece3e57>:1: SettingWithCopyWarning: \n",
      "A value is trying to be set on a copy of a slice from a DataFrame.\n",
      "Try using .loc[row_indexer,col_indexer] = value instead\n",
      "\n",
      "See the caveats in the documentation: https://pandas.pydata.org/pandas-docs/stable/user_guide/indexing.html#returning-a-view-versus-a-copy\n",
      "  categories[\"content\"] = categories[\"content\"].str.lower()\n"
     ]
    },
    {
     "data": {
      "text/plain": [
       "frozen        66\n",
       "chocolate     48\n",
       "canned        42\n",
       "with          38\n",
       "and           36\n",
       "milks         33\n",
       "dried         32\n",
       "yogurts       31\n",
       "based         30\n",
       "de            29\n",
       "green         28\n",
       "products      27\n",
       "juices        26\n",
       "fruit         26\n",
       "beans         24\n",
       "vegetable     22\n",
       "plant         22\n",
       "wheat         22\n",
       "foods         21\n",
       "olives        21\n",
       "cream         21\n",
       "cheeses       21\n",
       "in            19\n",
       "fruits        18\n",
       "chocolates    18\n",
       "seeds         18\n",
       "milk          17\n",
       "peppers       17\n",
       "beverages     17\n",
       "soy           17\n",
       "sauces        16\n",
       "fresh         16\n",
       "ground        16\n",
       "rices         16\n",
       "ice           16\n",
       "white         15\n",
       "cereal        15\n",
       "puffed        15\n",
       "teas          15\n",
       "cakes         15\n",
       "desserts      14\n",
       "turron        14\n",
       "rice          14\n",
       "nuts          14\n",
       "bars          14\n",
       "mixed         13\n",
       "soups         13\n",
       "whole         13\n",
       "black         13\n",
       "mushrooms     13\n",
       "breads        13\n",
       "of            13\n",
       "meals         12\n",
       "jams          12\n",
       "meat          12\n",
       "biscuits      12\n",
       "corn          12\n",
       "pasta         11\n",
       "durum         11\n",
       "shelled       11\n",
       "dtype: int64"
      ]
     },
     "execution_count": 37,
     "metadata": {},
     "output_type": "execute_result"
    }
   ],
   "source": [
    "categories[\"content\"] = categories[\"content\"].str.lower()\n",
    "categories['content'].str.split(expand=True).stack().value_counts().head(60)"
   ]
  },
  {
   "cell_type": "markdown",
   "metadata": {},
   "source": [
    "keywords={\n",
    "    'LACTEOS':['yogurts','milks','cream', 'cheeses', 'milk', 'cheese'],\n",
    "    'Productos de CARNE':['meat', 'durum', 'steak', 'sausage', 'steaks', 'sausages'],\n",
    "    'Productos de PESCADO':['fish', 'shrimp', 'fishes', 'shrimps'],\n",
    "    'LEGUMBRES & FRUTOS SECOS':['beans', 'dried', 'seeds', 'peppers', 'nuts'],\n",
    "    'Productos con HORTALIZAS':['vegetable','olives', 'soups', 'mushrooms'],\n",
    "    'Productos de FRUTAS':['fruit', 'fruits', 'apple', 'orange', 'banana'],\n",
    "    'CEREALES':['wheat', 'rices', 'cereal', 'cakes', 'rice', 'breads', 'biscuits', 'corn', 'pasta'],\n",
    "    'LIPIDOS & DULCES':['chocolate','chocolates', 'turron'],\n",
    "    'ALCOHOL':['beer', 'wine', 'whiskey']\n",
    "}"
   ]
  },
  {
   "cell_type": "markdown",
   "metadata": {},
   "source": [
    "LACTEOS = ['yogurts','milks','cream', 'cheeses', 'milk', 'cheese','food'],\n",
    "CARNE = ['meat', 'durum', 'steak', 'sausage', 'steaks', 'sausages'],\n",
    "PESCADO = ['fish', 'shrimp', 'fishes', 'shrimps'],\n",
    "LEGUMBRES = ['beans', 'dried', 'seeds', 'peppers', 'nuts'],\n",
    "HORTALIZA = ['vegetable','olives', 'soups', 'mushrooms'],\n",
    "FRUTAS = ['fruit', 'fruits', 'apple', 'orange', 'banana'],\n",
    "CEREALES = ['wheat', 'rices', 'cereal', 'cakes', 'rice', 'breads', 'biscuits', 'corn', 'pasta'],\n",
    "LIPIDOS = ['chocolate','chocolates', 'turron'],\n",
    "ALCOHOL = ['beer', 'wine', 'whiskey']\n",
    "\n",
    "keywords=[LACTEOS,CARNE,PESCADO,LEGUMBRES,HORTALIZA,FRUTAS,CEREALES,LIPIDOS,ALCOHOL]"
   ]
  },
  {
   "cell_type": "code",
   "execution_count": 159,
   "metadata": {},
   "outputs": [],
   "source": [
    "keywords={'yogurts':'LACTEOS', 'milks':'LACTEOS', 'cream':'LACTEOS','cheeses':'LACTEOS','milk':'LACTEOS', 'cheese':'LACTEOS', \n",
    "          'meat':'CARNE','durum':'CARNE','steak':'CARNE','sausage':'CARNE','steaks':'CARNE','sausages':'CARNE',\n",
    "          'fish':'PESCADO','shrimp':'PESCADO','fishes':'PESCADO','shrimps':'PESCADO',\n",
    "          'beans':'LEGUMBRES','dried':'LEGUMBRES','seeds':'LEGUMBRES','peppers':'LEGUMBRES', 'nuts':'LEGUMBRES',\n",
    "          'vegetable':'HORTALIZAS','olives':'HORTALIZAS','soups':'HORTALIZAS','mushrooms':'HORTALIZAS',\n",
    "          'fruit':'FRUTAS','fruits':'FRUTAS','apple':'FRUTAS', 'orange':'FRUTAS','banana':'FRUTAS',\n",
    "          'wheat':'CEREALES','rices':'CEREALES','cereal':'CEREALES','cakes':'CEREALES', 'rice':'CEREALES',\n",
    "          'breads':'CEREALES', 'biscuits':'CEREALES','corn':'CEREALES','pasta':'CEREALES',\n",
    "          'chocolate':'LIPIDOS', 'chocolates':'LIPIDOS', 'turron':'LIPIDOS', 'chuches':'LIPIDOS',\n",
    "          'beer':'ALCOHOL','wine':'ALCOHOL','whiskey':'ALCOHOL', 'tomato':'HORTALIZAS','asparagus':'HORTALIZAS',\n",
    "          'carrots':'HORTALIZAS', 'legumes':'HORTALIZAS', 'chickpeas':'LEGUMBRES','sardines':'PESCADO', 'ham':'CARNE',\n",
    "          'butters':'LIPIDOS','lentils':'LEGUMBRES','chicken':'CARNE', 'sweet':'LIPIDOS','lemon':'FRUTAS', \n",
    "          'vanilla':'LACTEOS', 'crisps':'CEREALES', 'pork':'MEAT', 'jams':'LIPIDOS', 'almonds':'LEGUMBRES', \n",
    "          'artichokes':'HORTALIZAS','onions':'HORTALIZAS', 'egg':'MEAT', 'eggs':'MEAT','sugar':'LIPIDOS', 'syrups':'LIPIDOS', \n",
    "          'berries':'FRUTAS','fillets':'MEAT','spinachs':'HORTALIZAS','honeys':'LIPIDOS','tunas':'PESCADO', 'oil':'LIPIDOS'}"
   ]
  },
  {
   "cell_type": "code",
   "execution_count": 160,
   "metadata": {},
   "outputs": [],
   "source": [
    "cat_index=[]\n",
    "cat=[]\n",
    "mega_cat=[]\n",
    "for i in range(len(categories)):\n",
    "    label = categories['content'].iloc[i]\n",
    "    for j,k in keywords.items():\n",
    "            if j in label:\n",
    "                cat_index.append(i)\n",
    "                cat.append(label)\n",
    "                mega_cat.append(k)"
   ]
  },
  {
   "cell_type": "code",
   "execution_count": 161,
   "metadata": {},
   "outputs": [],
   "source": [
    "df = pd.DataFrame(zip(cat_index, cat, mega_cat), columns=['cat_ID','off cat','mega_cat'])"
   ]
  },
  {
   "cell_type": "code",
   "execution_count": 162,
   "metadata": {},
   "outputs": [
    {
     "data": {
      "text/html": [
       "<div>\n",
       "<style scoped>\n",
       "    .dataframe tbody tr th:only-of-type {\n",
       "        vertical-align: middle;\n",
       "    }\n",
       "\n",
       "    .dataframe tbody tr th {\n",
       "        vertical-align: top;\n",
       "    }\n",
       "\n",
       "    .dataframe thead th {\n",
       "        text-align: right;\n",
       "    }\n",
       "</style>\n",
       "<table border=\"1\" class=\"dataframe\">\n",
       "  <thead>\n",
       "    <tr style=\"text-align: right;\">\n",
       "      <th></th>\n",
       "      <th>cat_ID</th>\n",
       "      <th>off cat</th>\n",
       "      <th>mega_cat</th>\n",
       "    </tr>\n",
       "  </thead>\n",
       "  <tbody>\n",
       "    <tr>\n",
       "      <th>0</th>\n",
       "      <td>0</td>\n",
       "      <td>meats</td>\n",
       "      <td>CARNE</td>\n",
       "    </tr>\n",
       "    <tr>\n",
       "      <th>1</th>\n",
       "      <td>1</td>\n",
       "      <td>prepared meats</td>\n",
       "      <td>CARNE</td>\n",
       "    </tr>\n",
       "    <tr>\n",
       "      <th>2</th>\n",
       "      <td>5</td>\n",
       "      <td>fermented milk products</td>\n",
       "      <td>LACTEOS</td>\n",
       "    </tr>\n",
       "    <tr>\n",
       "      <th>3</th>\n",
       "      <td>7</td>\n",
       "      <td>milks</td>\n",
       "      <td>LACTEOS</td>\n",
       "    </tr>\n",
       "    <tr>\n",
       "      <th>5</th>\n",
       "      <td>9</td>\n",
       "      <td>fermented milk drinks</td>\n",
       "      <td>LACTEOS</td>\n",
       "    </tr>\n",
       "    <tr>\n",
       "      <th>...</th>\n",
       "      <td>...</td>\n",
       "      <td>...</td>\n",
       "      <td>...</td>\n",
       "    </tr>\n",
       "    <tr>\n",
       "      <th>1074</th>\n",
       "      <td>1289</td>\n",
       "      <td>tropical fruits soy yogurts</td>\n",
       "      <td>FRUTAS</td>\n",
       "    </tr>\n",
       "    <tr>\n",
       "      <th>1076</th>\n",
       "      <td>1293</td>\n",
       "      <td>mixed vegetable pickles</td>\n",
       "      <td>HORTALIZAS</td>\n",
       "    </tr>\n",
       "    <tr>\n",
       "      <th>1077</th>\n",
       "      <td>1294</td>\n",
       "      <td>egg free mayonnaises</td>\n",
       "      <td>MEAT</td>\n",
       "    </tr>\n",
       "    <tr>\n",
       "      <th>1078</th>\n",
       "      <td>1296</td>\n",
       "      <td>puffed wholegrain rice cakes</td>\n",
       "      <td>CEREALES</td>\n",
       "    </tr>\n",
       "    <tr>\n",
       "      <th>1080</th>\n",
       "      <td>1297</td>\n",
       "      <td>baby milks</td>\n",
       "      <td>LACTEOS</td>\n",
       "    </tr>\n",
       "  </tbody>\n",
       "</table>\n",
       "<p>919 rows × 3 columns</p>\n",
       "</div>"
      ],
      "text/plain": [
       "      cat_ID                       off cat    mega_cat\n",
       "0          0                         meats       CARNE\n",
       "1          1                prepared meats       CARNE\n",
       "2          5       fermented milk products     LACTEOS\n",
       "3          7                         milks     LACTEOS\n",
       "5          9         fermented milk drinks     LACTEOS\n",
       "...      ...                           ...         ...\n",
       "1074    1289   tropical fruits soy yogurts      FRUTAS\n",
       "1076    1293       mixed vegetable pickles  HORTALIZAS\n",
       "1077    1294          egg free mayonnaises        MEAT\n",
       "1078    1296  puffed wholegrain rice cakes    CEREALES\n",
       "1080    1297                    baby milks     LACTEOS\n",
       "\n",
       "[919 rows x 3 columns]"
      ]
     },
     "execution_count": 162,
     "metadata": {},
     "output_type": "execute_result"
    }
   ],
   "source": [
    "df.drop_duplicates()"
   ]
  },
  {
   "cell_type": "code",
   "execution_count": 163,
   "metadata": {},
   "outputs": [
    {
     "data": {
      "text/html": [
       "<div>\n",
       "<style scoped>\n",
       "    .dataframe tbody tr th:only-of-type {\n",
       "        vertical-align: middle;\n",
       "    }\n",
       "\n",
       "    .dataframe tbody tr th {\n",
       "        vertical-align: top;\n",
       "    }\n",
       "\n",
       "    .dataframe thead th {\n",
       "        text-align: right;\n",
       "    }\n",
       "</style>\n",
       "<table border=\"1\" class=\"dataframe\">\n",
       "  <thead>\n",
       "    <tr style=\"text-align: right;\">\n",
       "      <th></th>\n",
       "      <th>categories_hierarchy</th>\n",
       "      <th>language</th>\n",
       "      <th>content</th>\n",
       "      <th>cat_ID</th>\n",
       "      <th>off cat</th>\n",
       "      <th>mega_cat</th>\n",
       "    </tr>\n",
       "  </thead>\n",
       "  <tbody>\n",
       "    <tr>\n",
       "      <th>0</th>\n",
       "      <td>'en:meats'</td>\n",
       "      <td>en</td>\n",
       "      <td>meats</td>\n",
       "      <td>0.0</td>\n",
       "      <td>meats</td>\n",
       "      <td>CARNE</td>\n",
       "    </tr>\n",
       "    <tr>\n",
       "      <th>1</th>\n",
       "      <td>'en:prepared-meats'</td>\n",
       "      <td>en</td>\n",
       "      <td>prepared meats</td>\n",
       "      <td>1.0</td>\n",
       "      <td>prepared meats</td>\n",
       "      <td>CARNE</td>\n",
       "    </tr>\n",
       "    <tr>\n",
       "      <th>2</th>\n",
       "      <td>'en:beverages'</td>\n",
       "      <td>en</td>\n",
       "      <td>beverages</td>\n",
       "      <td>NaN</td>\n",
       "      <td>NaN</td>\n",
       "      <td>NaN</td>\n",
       "    </tr>\n",
       "    <tr>\n",
       "      <th>3</th>\n",
       "      <td>'en:dairies'</td>\n",
       "      <td>en</td>\n",
       "      <td>dairies</td>\n",
       "      <td>NaN</td>\n",
       "      <td>NaN</td>\n",
       "      <td>NaN</td>\n",
       "    </tr>\n",
       "    <tr>\n",
       "      <th>4</th>\n",
       "      <td>'en:fermented-foods'</td>\n",
       "      <td>en</td>\n",
       "      <td>fermented foods</td>\n",
       "      <td>NaN</td>\n",
       "      <td>NaN</td>\n",
       "      <td>NaN</td>\n",
       "    </tr>\n",
       "    <tr>\n",
       "      <th>...</th>\n",
       "      <td>...</td>\n",
       "      <td>...</td>\n",
       "      <td>...</td>\n",
       "      <td>...</td>\n",
       "      <td>...</td>\n",
       "      <td>...</td>\n",
       "    </tr>\n",
       "    <tr>\n",
       "      <th>1593</th>\n",
       "      <td>'en:puffed-wholegrain-rice-cakes'</td>\n",
       "      <td>en</td>\n",
       "      <td>puffed wholegrain rice cakes</td>\n",
       "      <td>1296.0</td>\n",
       "      <td>puffed wholegrain rice cakes</td>\n",
       "      <td>CEREALES</td>\n",
       "    </tr>\n",
       "    <tr>\n",
       "      <th>1594</th>\n",
       "      <td>'en:puffed-wholegrain-rice-cakes'</td>\n",
       "      <td>en</td>\n",
       "      <td>puffed wholegrain rice cakes</td>\n",
       "      <td>1296.0</td>\n",
       "      <td>puffed wholegrain rice cakes</td>\n",
       "      <td>CEREALES</td>\n",
       "    </tr>\n",
       "    <tr>\n",
       "      <th>1595</th>\n",
       "      <td>'en:baby-milks'</td>\n",
       "      <td>en</td>\n",
       "      <td>baby milks</td>\n",
       "      <td>1297.0</td>\n",
       "      <td>baby milks</td>\n",
       "      <td>LACTEOS</td>\n",
       "    </tr>\n",
       "    <tr>\n",
       "      <th>1596</th>\n",
       "      <td>'en:baby-milks'</td>\n",
       "      <td>en</td>\n",
       "      <td>baby milks</td>\n",
       "      <td>1297.0</td>\n",
       "      <td>baby milks</td>\n",
       "      <td>LACTEOS</td>\n",
       "    </tr>\n",
       "    <tr>\n",
       "      <th>1597</th>\n",
       "      <td>'en:alexandrian-senna'</td>\n",
       "      <td>en</td>\n",
       "      <td>alexandrian senna</td>\n",
       "      <td>NaN</td>\n",
       "      <td>NaN</td>\n",
       "      <td>NaN</td>\n",
       "    </tr>\n",
       "  </tbody>\n",
       "</table>\n",
       "<p>1598 rows × 6 columns</p>\n",
       "</div>"
      ],
      "text/plain": [
       "                   categories_hierarchy language  \\\n",
       "0                            'en:meats'       en   \n",
       "1                   'en:prepared-meats'       en   \n",
       "2                        'en:beverages'       en   \n",
       "3                          'en:dairies'       en   \n",
       "4                  'en:fermented-foods'       en   \n",
       "...                                 ...      ...   \n",
       "1593  'en:puffed-wholegrain-rice-cakes'       en   \n",
       "1594  'en:puffed-wholegrain-rice-cakes'       en   \n",
       "1595                    'en:baby-milks'       en   \n",
       "1596                    'en:baby-milks'       en   \n",
       "1597             'en:alexandrian-senna'       en   \n",
       "\n",
       "                           content  cat_ID                       off cat  \\\n",
       "0                            meats     0.0                         meats   \n",
       "1                   prepared meats     1.0                prepared meats   \n",
       "2                        beverages     NaN                           NaN   \n",
       "3                          dairies     NaN                           NaN   \n",
       "4                  fermented foods     NaN                           NaN   \n",
       "...                            ...     ...                           ...   \n",
       "1593  puffed wholegrain rice cakes  1296.0  puffed wholegrain rice cakes   \n",
       "1594  puffed wholegrain rice cakes  1296.0  puffed wholegrain rice cakes   \n",
       "1595                    baby milks  1297.0                    baby milks   \n",
       "1596                    baby milks  1297.0                    baby milks   \n",
       "1597             alexandrian senna     NaN                           NaN   \n",
       "\n",
       "      mega_cat  \n",
       "0        CARNE  \n",
       "1        CARNE  \n",
       "2          NaN  \n",
       "3          NaN  \n",
       "4          NaN  \n",
       "...        ...  \n",
       "1593  CEREALES  \n",
       "1594  CEREALES  \n",
       "1595   LACTEOS  \n",
       "1596   LACTEOS  \n",
       "1597       NaN  \n",
       "\n",
       "[1598 rows x 6 columns]"
      ]
     },
     "execution_count": 163,
     "metadata": {},
     "output_type": "execute_result"
    }
   ],
   "source": [
    "merge = pd.merge(categories, df, left_on='content', right_on='off cat', how='outer')\n",
    "merge"
   ]
  },
  {
   "cell_type": "code",
   "execution_count": 164,
   "metadata": {},
   "outputs": [
    {
     "data": {
      "image/png": "[encoded data removed]",
      "text/plain": [
       "<Figure size 432x288 with 1 Axes>"
      ]
     },
     "metadata": {
      "needs_background": "light"
     },
     "output_type": "display_data"
    }
   ],
   "source": [
    "merge['mega_cat'].value_counts().plot.bar();"
   ]
  },
  {
   "cell_type": "code",
   "execution_count": 165,
   "metadata": {},
   "outputs": [
    {
     "data": {
      "text/plain": [
       "False    1086\n",
       "True      512\n",
       "Name: mega_cat, dtype: int64"
      ]
     },
     "execution_count": 165,
     "metadata": {},
     "output_type": "execute_result"
    }
   ],
   "source": [
    "merge['mega_cat'].isnull().value_counts()"
   ]
  },
  {
   "cell_type": "code",
   "execution_count": 166,
   "metadata": {},
   "outputs": [],
   "source": [
    "play = merge[merge['mega_cat'].isnull()]"
   ]
  },
  {
   "cell_type": "code",
   "execution_count": 167,
   "metadata": {},
   "outputs": [
    {
     "data": {
      "text/plain": [
       "frozen          26\n",
       "de              22\n",
       "foods           16\n",
       "products        14\n",
       "based           14\n",
       "plant           14\n",
       "and             13\n",
       "teas            12\n",
       "canned          11\n",
       "juices          10\n",
       "beverages        9\n",
       "desserts         9\n",
       "sauces           8\n",
       "meals            7\n",
       "salads           6\n",
       "tea              6\n",
       "drinks           6\n",
       "coffees          6\n",
       "of               6\n",
       "flours           6\n",
       "garlic           6\n",
       "powder           6\n",
       "green            6\n",
       "sprouts          6\n",
       "mustards         5\n",
       "vinegars         5\n",
       "dairy            5\n",
       "in               5\n",
       "instant          4\n",
       "fresh            4\n",
       "poultry          4\n",
       "pickled          4\n",
       "plants           4\n",
       "salts            4\n",
       "refrigerated     4\n",
       "spreads          4\n",
       "granizados       4\n",
       "pizzas           4\n",
       "food             4\n",
       "pates            4\n",
       "potatoes         4\n",
       "pickles          4\n",
       "bread            4\n",
       "aromatic         4\n",
       "pistachios       3\n",
       "margarines       3\n",
       "coffee           3\n",
       "flakes           3\n",
       "fried            3\n",
       "hot              3\n",
       "wafers           3\n",
       "noodles          3\n",
       "pies             3\n",
       "hearts           3\n",
       "mixes            3\n",
       "fats             3\n",
       "dishes           3\n",
       "bags             3\n",
       "lasagne          3\n",
       "broccoli         3\n",
       "dtype: int64"
      ]
     },
     "execution_count": 167,
     "metadata": {},
     "output_type": "execute_result"
    }
   ],
   "source": [
    "play['content'].str.split(expand=True).stack().value_counts().head(60)"
   ]
  },
  {
   "cell_type": "code",
   "execution_count": null,
   "metadata": {},
   "outputs": [],
   "source": []
  }
 ],
 "metadata": {
  "kernelspec": {
   "display_name": "Python 3",
   "language": "python",
   "name": "python3"
  },
  "language_info": {
   "codemirror_mode": {
    "name": "ipython",
    "version": 3
   },
   "file_extension": ".py",
   "mimetype": "text/x-python",
   "name": "python",
   "nbconvert_exporter": "python",
   "pygments_lexer": "ipython3",
   "version": "3.8.3"
  },
  "varInspector": {
   "cols": {
    "lenName": 16,
    "lenType": 16,
    "lenVar": 40
   },
   "kernels_config": {
    "python": {
     "delete_cmd_postfix": "",
     "delete_cmd_prefix": "del ",
     "library": "var_list.py",
     "varRefreshCmd": "print(var_dic_list())"
    },
    "r": {
     "delete_cmd_postfix": ") ",
     "delete_cmd_prefix": "rm(",
     "library": "var_list.r",
     "varRefreshCmd": "cat(var_dic_list()) "
    }
   },
   "types_to_exclude": [
    "module",
    "function",
    "builtin_function_or_method",
    "instance",
    "_Feature"
   ],
   "window_display": false
  }
 },
 "nbformat": 4,
 "nbformat_minor": 4
}
